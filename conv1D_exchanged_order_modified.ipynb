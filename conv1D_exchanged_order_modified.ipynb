{
  "nbformat": 4,
  "nbformat_minor": 0,
  "metadata": {
    "colab": {
      "name": "conv1D-exchanged-order.ipynb",
      "provenance": [],
      "collapsed_sections": [],
      "authorship_tag": "ABX9TyMuoBtcWcJO5eOI923gNnAL",
      "include_colab_link": true
    },
    "kernelspec": {
      "name": "python3",
      "display_name": "Python 3"
    },
    "language_info": {
      "name": "python"
    }
  },
  "cells": [
    {
      "cell_type": "markdown",
      "metadata": {
        "id": "view-in-github",
        "colab_type": "text"
      },
      "source": [
        "<a href=\"https://colab.research.google.com/github/framante/NAPDE-project-NN/blob/main/conv1D_exchanged_order_modified.ipynb\" target=\"_parent\"><img src=\"https://colab.research.google.com/assets/colab-badge.svg\" alt=\"Open In Colab\"/></a>"
      ]
    },
    {
      "cell_type": "code",
      "metadata": {
        "id": "PhPXshQOJYbV"
      },
      "source": [
        "import numpy as np\n",
        "import tensorflow as tf\n",
        "from keras.layers.core import Reshape"
      ],
      "execution_count": null,
      "outputs": []
    },
    {
      "cell_type": "markdown",
      "metadata": {
        "id": "QpKboFVrwIlD"
      },
      "source": [
        "REMEMBER THAT IN PYTHON THE FIRST DIMENSION OF A TENSOR IS THE WIDTH, WHICH I USUALLY CONSIDER AS THE THIRD ONE, while the remaining others are the dimension of a classical matrix n rows x n cols"
      ]
    },
    {
      "cell_type": "code",
      "metadata": {
        "colab": {
          "base_uri": "https://localhost:8080/"
        },
        "id": "5eLfQGbA0Vyd",
        "outputId": "43eac852-4067-4d91-d6eb-cb0cf6671ea9"
      },
      "source": [
        "#training data\n",
        "\n",
        "# FINAL STEP: here we implement the version for all FEM nodes (hopefully)\n",
        "\n",
        "# number of FEM nodes (control nodes in Higa setting)\n",
        "n_FEMnodes = 11\n",
        "# number of parameters(mu, beta1, beta2, sigma, f)\n",
        "n_params = 5\n",
        "# number of PDEs problems considered\n",
        "n_PDEs = 200\n",
        "# number of quadrature nodes for each FEM node\n",
        "data_size = 100 #(expected_output.shape[1])\n",
        "\n",
        "#import expected output dataset\n",
        "expected_output = np.loadtxt('SolutionOutput.txt')\n",
        "print(expected_output.shape) # n FEM nodes x n PDEs x n QUAD nodes\n",
        "\n",
        "# import input dataset (think about importing n PDEs files instead SolutionInput_1.txt ... SolutionInput_nPDEs.txt)\n",
        "input = np.loadtxt('SolutionInput.txt')\n",
        "print(input.shape) # n FEM nodes x n PDEs x n params x n QUAD nodes"
      ],
      "execution_count": null,
      "outputs": [
        {
          "output_type": "stream",
          "text": [
            "(2200, 100)\n",
            "(11000, 100)\n"
          ],
          "name": "stdout"
        }
      ]
    },
    {
      "cell_type": "markdown",
      "metadata": {
        "id": "xTVtuB2vxsGr"
      },
      "source": [
        "Reshaping the expected output such that it's a tensor where each matrix is (n FEM nodes x n QUAD nodes) and the third dimension is the n PDEs"
      ]
    },
    {
      "cell_type": "code",
      "metadata": {
        "colab": {
          "base_uri": "https://localhost:8080/"
        },
        "id": "pxbsFEfrlPBE",
        "outputId": "474c26ef-b9d0-416b-8855-afe113f2e3fb"
      },
      "source": [
        "expected_output_rshpd = expected_output.reshape([n_PDEs, n_FEMnodes, data_size])\n",
        "print(expected_output_rshpd.shape) # n PDEs x n FEM nodes x n QUAD nodes"
      ],
      "execution_count": null,
      "outputs": [
        {
          "output_type": "stream",
          "text": [
            "(200, 11, 100)\n"
          ],
          "name": "stdout"
        }
      ]
    },
    {
      "cell_type": "markdown",
      "metadata": {
        "id": "_9lFuzI3xKlO"
      },
      "source": [
        "\"Rolling the dice\" so that we have a tensor where each matrix is (n PDEs x n QUAD nodes) and the third dimension is n FEM nodes"
      ]
    },
    {
      "cell_type": "code",
      "metadata": {
        "id": "YPAuGoa5xJtz"
      },
      "source": [
        "#expected_output_rshpd = np.swapaxes(expected_output_rshpd, 0, 1)\n",
        "#print(expected_output_rshpd.shape) # n FEM nodes x n PDEs x n QUAD nodes"
      ],
      "execution_count": null,
      "outputs": []
    },
    {
      "cell_type": "markdown",
      "metadata": {
        "id": "nSaNu61UoooH"
      },
      "source": [
        "Reshaping input"
      ]
    },
    {
      "cell_type": "code",
      "metadata": {
        "colab": {
          "base_uri": "https://localhost:8080/"
        },
        "id": "3_JBrHcn5KyD",
        "outputId": "d20a3767-dc2f-4ef9-a24b-5df62577ba7e"
      },
      "source": [
        "input_rshpd = input.reshape([n_PDEs, n_FEMnodes, n_params, data_size])\n",
        "print(input_rshpd.shape) # n PDEs x n FEM nodes x n params x n QUAD nodes"
      ],
      "execution_count": null,
      "outputs": [
        {
          "output_type": "stream",
          "text": [
            "(200, 11, 5, 100)\n"
          ],
          "name": "stdout"
        }
      ]
    },
    {
      "cell_type": "code",
      "metadata": {
        "id": "LPuKVlgEopUx"
      },
      "source": [
        "#input_rshpd = np.swapaxes(input_rshpd, 0, 1)\n",
        "#print(input_rshpd.shape) # n FEM nodes x n PDEs x n params x n QUAD nodes"
      ],
      "execution_count": null,
      "outputs": []
    },
    {
      "cell_type": "markdown",
      "metadata": {
        "id": "mucgUIqZy7Rl"
      },
      "source": [
        "The training data should be interpreted as input and expected output\n",
        "\n",
        "\n",
        "the input is given by the terms (mu, beta1, beta2, sigma, force) of the ADR problem  computed in the grid (n FEM nodes x n QUAD nodes)\n",
        "\n",
        "the output is given by the kind-of-solution (...specify how it has been got....) evaluated in the grid (n FEM nodes x n QUAD nodes)"
      ]
    },
    {
      "cell_type": "code",
      "metadata": {
        "id": "BWRTHWc7KCyf",
        "colab": {
          "base_uri": "https://localhost:8080/"
        },
        "outputId": "1cc379df-e526-43b5-b743-1459c511d21e"
      },
      "source": [
        "x_train = input_rshpd\n",
        "#x_train = np.expand_dims(x_train, 4) \n",
        "y_train = expected_output_rshpd\n",
        "\n",
        "print(x_train.shape)\n",
        "print(y_train.shape) "
      ],
      "execution_count": null,
      "outputs": [
        {
          "output_type": "stream",
          "text": [
            "(200, 11, 5, 100)\n",
            "(200, 11, 100)\n"
          ],
          "name": "stdout"
        }
      ]
    },
    {
      "cell_type": "markdown",
      "metadata": {
        "id": "3S2n7R0ERE6Y"
      },
      "source": [
        "training for all n_FEMnodes, the tuning of the width of the window is done within the layers conv1D"
      ]
    },
    {
      "cell_type": "code",
      "metadata": {
        "id": "WLuM0SCmxfCy",
        "colab": {
          "base_uri": "https://localhost:8080/"
        },
        "outputId": "9ac165d3-bd72-4e9d-ec47-14735e600ca0"
      },
      "source": [
        "input_shape = (n_FEMnodes, n_params, data_size)\n",
        "print(input_shape)\n",
        "\n",
        "model = tf.keras.Sequential()\n",
        "\n",
        "layer1 = tf.keras.Input(shape=input_shape)\n",
        "model.add(layer1)\n",
        "\n",
        "layer2 = tf.keras.layers.Dense(40, activation=\"relu\")\n",
        "model.add(layer2)\n",
        "\n",
        "layer3 = tf.keras.layers.Conv1D(20, kernel_size=(5,), activation=\"relu\")\n",
        "model.add(layer3)\n",
        "\n",
        "layer4 = tf.keras.layers.Dropout(0.2)\n",
        "model.add(layer4)\n",
        "\n",
        "#layer5 = tf.keras.layers.Conv1D(30, kernel_size=2, activation=\"relu\")\n",
        "#model.add(layer5)\n",
        "\n",
        "#layer6 = tf.keras.layers.Dropout(0.2)\n",
        "#model.add(layer6)\n",
        "\n",
        "# layer = tf.keras.layers.MaxPool1D(pool_size=2)\n",
        "# we cannot use a pooling layer since it requires the dimension of input to be : (batch_shape, steps, features)\n",
        "# and we have instead 4 dimensions\n",
        "\n",
        "#layer8 = tf.keras.layers.Conv1D(10, kernel_size=2, activation=\"relu\")\n",
        "#model.add(layer8)\n",
        "\n",
        "model.add(tf.keras.layers.Reshape((n_FEMnodes, 20)) )\n",
        "\n",
        "layer9 = tf.keras.layers.Conv1D(10, kernel_size=3, padding=\"same\", activation=\"relu\")\n",
        "model.add(layer9)\n",
        "\n",
        "layer10 = tf.keras.layers.Dropout(0.5)\n",
        "model.add(layer10)\n",
        "\n",
        "layer11 = tf.keras.layers.Dense(data_size)\n",
        "model.add(layer11)\n",
        "\n",
        "#tf.keras.layers.MaxPool1D(pool_size=2)\n",
        "#tf.keras.layers.Flatten()\n",
        "\n",
        "#layer11 = tf.keras.layers.Dense(data_size)\n",
        "#model.add(layer11)"
      ],
      "execution_count": null,
      "outputs": [
        {
          "output_type": "stream",
          "text": [
            "(11, 5, 100)\n"
          ],
          "name": "stdout"
        }
      ]
    },
    {
      "cell_type": "code",
      "metadata": {
        "id": "JvAnA-g-8bkd"
      },
      "source": [
        "print(input_shape)\n",
        "model.summary()"
      ],
      "execution_count": null,
      "outputs": []
    },
    {
      "cell_type": "code",
      "metadata": {
        "id": "sOTJ4vNSnd99"
      },
      "source": [
        "tf.keras.utils.plot_model(model, \"model_shape_info.png\", show_shapes=True)"
      ],
      "execution_count": null,
      "outputs": []
    },
    {
      "cell_type": "code",
      "metadata": {
        "id": "HyLkl2JN3O1i"
      },
      "source": [
        "model.compile(optimizer = tf.keras.optimizers.RMSprop(learning_rate=0.01,rho=0.9), \n",
        "              loss = \"mse\"\n",
        "              #,metrics=tf.keras.metrics.MeanSquaredLogarithmicError( name='msl_err', dtype=None)\n",
        "              )"
      ],
      "execution_count": null,
      "outputs": []
    },
    {
      "cell_type": "code",
      "metadata": {
        "id": "Yo_J65jVxo3v",
        "colab": {
          "base_uri": "https://localhost:8080/"
        },
        "outputId": "7a663897-9049-490c-dd5b-8142bbaf4d54"
      },
      "source": [
        "batch_size = 20\n",
        "epochs = 200\n",
        "model.fit(x_train, y_train, batch_size=batch_size, epochs=epochs, validation_split = 0.2)"
      ],
      "execution_count": null,
      "outputs": [
        {
          "output_type": "stream",
          "text": [
            "Epoch 1/200\n",
            "8/8 [==============================] - 1s 33ms/step - loss: 1.3712 - val_loss: 0.0056\n",
            "Epoch 2/200\n",
            "8/8 [==============================] - 0s 11ms/step - loss: 0.0110 - val_loss: 0.0042\n",
            "Epoch 3/200\n",
            "8/8 [==============================] - 0s 11ms/step - loss: 0.0070 - val_loss: 0.0036\n",
            "Epoch 4/200\n",
            "8/8 [==============================] - 0s 11ms/step - loss: 0.0106 - val_loss: 0.0033\n",
            "Epoch 5/200\n",
            "8/8 [==============================] - 0s 10ms/step - loss: 0.0071 - val_loss: 0.0033\n",
            "Epoch 6/200\n",
            "8/8 [==============================] - 0s 10ms/step - loss: 0.0070 - val_loss: 0.0033\n",
            "Epoch 7/200\n",
            "8/8 [==============================] - 0s 11ms/step - loss: 0.0079 - val_loss: 0.0033\n",
            "Epoch 8/200\n",
            "8/8 [==============================] - 0s 12ms/step - loss: 0.0085 - val_loss: 0.0033\n",
            "Epoch 9/200\n",
            "8/8 [==============================] - 0s 10ms/step - loss: 0.0055 - val_loss: 0.0035\n",
            "Epoch 10/200\n",
            "8/8 [==============================] - 0s 11ms/step - loss: 0.0063 - val_loss: 0.0035\n",
            "Epoch 11/200\n",
            "8/8 [==============================] - 0s 10ms/step - loss: 0.0066 - val_loss: 0.0033\n",
            "Epoch 12/200\n",
            "8/8 [==============================] - 0s 10ms/step - loss: 0.0083 - val_loss: 0.0033\n",
            "Epoch 13/200\n",
            "8/8 [==============================] - 0s 12ms/step - loss: 0.0066 - val_loss: 0.0037\n",
            "Epoch 14/200\n",
            "8/8 [==============================] - 0s 12ms/step - loss: 0.0061 - val_loss: 0.0034\n",
            "Epoch 15/200\n",
            "8/8 [==============================] - 0s 10ms/step - loss: 0.0084 - val_loss: 0.0033\n",
            "Epoch 16/200\n",
            "8/8 [==============================] - 0s 11ms/step - loss: 0.0065 - val_loss: 0.0033\n",
            "Epoch 17/200\n",
            "8/8 [==============================] - 0s 10ms/step - loss: 0.0057 - val_loss: 0.0034\n",
            "Epoch 18/200\n",
            "8/8 [==============================] - 0s 10ms/step - loss: 0.0065 - val_loss: 0.0034\n",
            "Epoch 19/200\n",
            "8/8 [==============================] - 0s 10ms/step - loss: 0.0074 - val_loss: 0.0033\n",
            "Epoch 20/200\n",
            "8/8 [==============================] - 0s 10ms/step - loss: 0.0081 - val_loss: 0.0033\n",
            "Epoch 21/200\n",
            "8/8 [==============================] - 0s 10ms/step - loss: 0.0073 - val_loss: 0.0033\n",
            "Epoch 22/200\n",
            "8/8 [==============================] - 0s 9ms/step - loss: 0.0056 - val_loss: 0.0033\n",
            "Epoch 23/200\n",
            "8/8 [==============================] - 0s 10ms/step - loss: 0.0056 - val_loss: 0.0036\n",
            "Epoch 24/200\n",
            "8/8 [==============================] - 0s 10ms/step - loss: 0.0068 - val_loss: 0.0033\n",
            "Epoch 25/200\n",
            "8/8 [==============================] - 0s 11ms/step - loss: 0.0078 - val_loss: 0.0033\n",
            "Epoch 26/200\n",
            "8/8 [==============================] - 0s 10ms/step - loss: 0.0067 - val_loss: 0.0034\n",
            "Epoch 27/200\n",
            "8/8 [==============================] - 0s 9ms/step - loss: 0.0053 - val_loss: 0.0034\n",
            "Epoch 28/200\n",
            "8/8 [==============================] - 0s 12ms/step - loss: 0.0075 - val_loss: 0.0035\n",
            "Epoch 29/200\n",
            "8/8 [==============================] - 0s 10ms/step - loss: 0.0059 - val_loss: 0.0033\n",
            "Epoch 30/200\n",
            "8/8 [==============================] - 0s 10ms/step - loss: 0.0068 - val_loss: 0.0035\n",
            "Epoch 31/200\n",
            "8/8 [==============================] - 0s 11ms/step - loss: 0.0077 - val_loss: 0.0033\n",
            "Epoch 32/200\n",
            "8/8 [==============================] - 0s 10ms/step - loss: 0.0064 - val_loss: 0.0033\n",
            "Epoch 33/200\n",
            "8/8 [==============================] - 0s 9ms/step - loss: 0.0083 - val_loss: 0.0033\n",
            "Epoch 34/200\n",
            "8/8 [==============================] - 0s 12ms/step - loss: 0.0046 - val_loss: 0.0037\n",
            "Epoch 35/200\n",
            "8/8 [==============================] - 0s 13ms/step - loss: 0.0050 - val_loss: 0.0037\n",
            "Epoch 36/200\n",
            "8/8 [==============================] - 0s 11ms/step - loss: 0.0059 - val_loss: 0.0033\n",
            "Epoch 37/200\n",
            "8/8 [==============================] - 0s 12ms/step - loss: 0.0070 - val_loss: 0.0034\n",
            "Epoch 38/200\n",
            "8/8 [==============================] - 0s 9ms/step - loss: 0.0056 - val_loss: 0.0034\n",
            "Epoch 39/200\n",
            "8/8 [==============================] - 0s 10ms/step - loss: 0.0061 - val_loss: 0.0034\n",
            "Epoch 40/200\n",
            "8/8 [==============================] - 0s 11ms/step - loss: 0.0063 - val_loss: 0.0033\n",
            "Epoch 41/200\n",
            "8/8 [==============================] - 0s 12ms/step - loss: 0.0056 - val_loss: 0.0035\n",
            "Epoch 42/200\n",
            "8/8 [==============================] - 0s 11ms/step - loss: 0.0052 - val_loss: 0.0035\n",
            "Epoch 43/200\n",
            "8/8 [==============================] - 0s 10ms/step - loss: 0.0062 - val_loss: 0.0034\n",
            "Epoch 44/200\n",
            "8/8 [==============================] - 0s 11ms/step - loss: 0.0057 - val_loss: 0.0034\n",
            "Epoch 45/200\n",
            "8/8 [==============================] - 0s 10ms/step - loss: 0.0061 - val_loss: 0.0033\n",
            "Epoch 46/200\n",
            "8/8 [==============================] - 0s 10ms/step - loss: 0.0064 - val_loss: 0.0033\n",
            "Epoch 47/200\n",
            "8/8 [==============================] - 0s 11ms/step - loss: 0.0076 - val_loss: 0.0033\n",
            "Epoch 48/200\n",
            "8/8 [==============================] - 0s 13ms/step - loss: 0.0056 - val_loss: 0.0033\n",
            "Epoch 49/200\n",
            "8/8 [==============================] - 0s 12ms/step - loss: 0.0074 - val_loss: 0.0034\n",
            "Epoch 50/200\n",
            "8/8 [==============================] - 0s 11ms/step - loss: 0.0069 - val_loss: 0.0033\n",
            "Epoch 51/200\n",
            "8/8 [==============================] - 0s 11ms/step - loss: 0.0070 - val_loss: 0.0033\n",
            "Epoch 52/200\n",
            "8/8 [==============================] - 0s 10ms/step - loss: 0.0076 - val_loss: 0.0034\n",
            "Epoch 53/200\n",
            "8/8 [==============================] - 0s 11ms/step - loss: 0.0076 - val_loss: 0.0035\n",
            "Epoch 54/200\n",
            "8/8 [==============================] - 0s 10ms/step - loss: 0.0073 - val_loss: 0.0033\n",
            "Epoch 55/200\n",
            "8/8 [==============================] - 0s 11ms/step - loss: 0.0085 - val_loss: 0.0033\n",
            "Epoch 56/200\n",
            "8/8 [==============================] - 0s 10ms/step - loss: 0.0067 - val_loss: 0.0034\n",
            "Epoch 57/200\n",
            "8/8 [==============================] - 0s 11ms/step - loss: 0.0084 - val_loss: 0.0033\n",
            "Epoch 58/200\n",
            "8/8 [==============================] - 0s 12ms/step - loss: 0.0083 - val_loss: 0.0033\n",
            "Epoch 59/200\n",
            "8/8 [==============================] - 0s 11ms/step - loss: 0.0087 - val_loss: 0.0033\n",
            "Epoch 60/200\n",
            "8/8 [==============================] - 0s 11ms/step - loss: 0.0059 - val_loss: 0.0033\n",
            "Epoch 61/200\n",
            "8/8 [==============================] - 0s 10ms/step - loss: 0.0058 - val_loss: 0.0033\n",
            "Epoch 62/200\n",
            "8/8 [==============================] - 0s 10ms/step - loss: 0.0061 - val_loss: 0.0034\n",
            "Epoch 63/200\n",
            "8/8 [==============================] - 0s 10ms/step - loss: 0.0064 - val_loss: 0.0035\n",
            "Epoch 64/200\n",
            "8/8 [==============================] - 0s 10ms/step - loss: 0.0082 - val_loss: 0.0033\n",
            "Epoch 65/200\n",
            "8/8 [==============================] - 0s 12ms/step - loss: 0.0069 - val_loss: 0.0034\n",
            "Epoch 66/200\n",
            "8/8 [==============================] - 0s 12ms/step - loss: 0.0065 - val_loss: 0.0033\n",
            "Epoch 67/200\n",
            "8/8 [==============================] - 0s 10ms/step - loss: 0.0061 - val_loss: 0.0034\n",
            "Epoch 68/200\n",
            "8/8 [==============================] - 0s 10ms/step - loss: 0.0079 - val_loss: 0.0033\n",
            "Epoch 69/200\n",
            "8/8 [==============================] - 0s 11ms/step - loss: 0.0073 - val_loss: 0.0033\n",
            "Epoch 70/200\n",
            "8/8 [==============================] - 0s 11ms/step - loss: 0.0073 - val_loss: 0.0033\n",
            "Epoch 71/200\n",
            "8/8 [==============================] - 0s 11ms/step - loss: 0.0058 - val_loss: 0.0033\n",
            "Epoch 72/200\n",
            "8/8 [==============================] - 0s 10ms/step - loss: 0.0067 - val_loss: 0.0033\n",
            "Epoch 73/200\n",
            "8/8 [==============================] - 0s 11ms/step - loss: 0.0052 - val_loss: 0.0034\n",
            "Epoch 74/200\n",
            "8/8 [==============================] - 0s 11ms/step - loss: 0.0072 - val_loss: 0.0034\n",
            "Epoch 75/200\n",
            "8/8 [==============================] - 0s 11ms/step - loss: 0.0071 - val_loss: 0.0033\n",
            "Epoch 76/200\n",
            "8/8 [==============================] - 0s 10ms/step - loss: 0.0064 - val_loss: 0.0033\n",
            "Epoch 77/200\n",
            "8/8 [==============================] - 0s 11ms/step - loss: 0.0075 - val_loss: 0.0033\n",
            "Epoch 78/200\n",
            "8/8 [==============================] - 0s 9ms/step - loss: 0.0051 - val_loss: 0.0039\n",
            "Epoch 79/200\n",
            "8/8 [==============================] - 0s 11ms/step - loss: 0.0066 - val_loss: 0.0033\n",
            "Epoch 80/200\n",
            "8/8 [==============================] - 0s 10ms/step - loss: 0.0064 - val_loss: 0.0034\n",
            "Epoch 81/200\n",
            "8/8 [==============================] - 0s 11ms/step - loss: 0.0063 - val_loss: 0.0033\n",
            "Epoch 82/200\n",
            "8/8 [==============================] - 0s 10ms/step - loss: 0.0074 - val_loss: 0.0033\n",
            "Epoch 83/200\n",
            "8/8 [==============================] - 0s 10ms/step - loss: 0.0089 - val_loss: 0.0033\n",
            "Epoch 84/200\n",
            "8/8 [==============================] - 0s 10ms/step - loss: 0.0051 - val_loss: 0.0035\n",
            "Epoch 85/200\n",
            "8/8 [==============================] - 0s 10ms/step - loss: 0.0069 - val_loss: 0.0033\n",
            "Epoch 86/200\n",
            "8/8 [==============================] - 0s 11ms/step - loss: 0.0066 - val_loss: 0.0033\n",
            "Epoch 87/200\n",
            "8/8 [==============================] - 0s 11ms/step - loss: 0.0073 - val_loss: 0.0033\n",
            "Epoch 88/200\n",
            "8/8 [==============================] - 0s 12ms/step - loss: 0.0060 - val_loss: 0.0035\n",
            "Epoch 89/200\n",
            "8/8 [==============================] - 0s 12ms/step - loss: 0.0075 - val_loss: 0.0034\n",
            "Epoch 90/200\n",
            "8/8 [==============================] - 0s 11ms/step - loss: 0.0091 - val_loss: 0.0033\n",
            "Epoch 91/200\n",
            "8/8 [==============================] - 0s 11ms/step - loss: 0.0068 - val_loss: 0.0033\n",
            "Epoch 92/200\n",
            "8/8 [==============================] - 0s 9ms/step - loss: 0.0056 - val_loss: 0.0035\n",
            "Epoch 93/200\n",
            "8/8 [==============================] - 0s 11ms/step - loss: 0.0062 - val_loss: 0.0033\n",
            "Epoch 94/200\n",
            "8/8 [==============================] - 0s 10ms/step - loss: 0.0049 - val_loss: 0.0034\n",
            "Epoch 95/200\n",
            "8/8 [==============================] - 0s 15ms/step - loss: 0.0058 - val_loss: 0.0034\n",
            "Epoch 96/200\n",
            "8/8 [==============================] - 0s 12ms/step - loss: 0.0048 - val_loss: 0.0034\n",
            "Epoch 97/200\n",
            "8/8 [==============================] - 0s 11ms/step - loss: 0.0079 - val_loss: 0.0033\n",
            "Epoch 98/200\n",
            "8/8 [==============================] - 0s 11ms/step - loss: 0.0084 - val_loss: 0.0033\n",
            "Epoch 99/200\n",
            "8/8 [==============================] - 0s 10ms/step - loss: 0.0075 - val_loss: 0.0033\n",
            "Epoch 100/200\n",
            "8/8 [==============================] - 0s 13ms/step - loss: 0.0068 - val_loss: 0.0033\n",
            "Epoch 101/200\n",
            "8/8 [==============================] - 0s 10ms/step - loss: 0.0081 - val_loss: 0.0033\n",
            "Epoch 102/200\n",
            "8/8 [==============================] - 0s 10ms/step - loss: 0.0067 - val_loss: 0.0034\n",
            "Epoch 103/200\n",
            "8/8 [==============================] - 0s 10ms/step - loss: 0.0070 - val_loss: 0.0035\n",
            "Epoch 104/200\n",
            "8/8 [==============================] - 0s 10ms/step - loss: 0.0076 - val_loss: 0.0033\n",
            "Epoch 105/200\n",
            "8/8 [==============================] - 0s 11ms/step - loss: 0.0073 - val_loss: 0.0033\n",
            "Epoch 106/200\n",
            "8/8 [==============================] - 0s 11ms/step - loss: 0.0050 - val_loss: 0.0035\n",
            "Epoch 107/200\n",
            "8/8 [==============================] - 0s 10ms/step - loss: 0.0085 - val_loss: 0.0033\n",
            "Epoch 108/200\n",
            "8/8 [==============================] - 0s 12ms/step - loss: 0.0066 - val_loss: 0.0033\n",
            "Epoch 109/200\n",
            "8/8 [==============================] - 0s 10ms/step - loss: 0.0067 - val_loss: 0.0033\n",
            "Epoch 110/200\n",
            "8/8 [==============================] - 0s 12ms/step - loss: 0.0054 - val_loss: 0.0033\n",
            "Epoch 111/200\n",
            "8/8 [==============================] - 0s 10ms/step - loss: 0.0052 - val_loss: 0.0034\n",
            "Epoch 112/200\n",
            "8/8 [==============================] - 0s 13ms/step - loss: 0.0065 - val_loss: 0.0036\n",
            "Epoch 113/200\n",
            "8/8 [==============================] - 0s 10ms/step - loss: 0.0066 - val_loss: 0.0034\n",
            "Epoch 114/200\n",
            "8/8 [==============================] - 0s 11ms/step - loss: 0.0085 - val_loss: 0.0033\n",
            "Epoch 115/200\n",
            "8/8 [==============================] - 0s 11ms/step - loss: 0.0067 - val_loss: 0.0034\n",
            "Epoch 116/200\n",
            "8/8 [==============================] - 0s 10ms/step - loss: 0.0082 - val_loss: 0.0033\n",
            "Epoch 117/200\n",
            "8/8 [==============================] - 0s 11ms/step - loss: 0.0076 - val_loss: 0.0033\n",
            "Epoch 118/200\n",
            "8/8 [==============================] - 0s 10ms/step - loss: 0.0079 - val_loss: 0.0033\n",
            "Epoch 119/200\n",
            "8/8 [==============================] - 0s 10ms/step - loss: 0.0080 - val_loss: 0.0033\n",
            "Epoch 120/200\n",
            "8/8 [==============================] - 0s 11ms/step - loss: 0.0058 - val_loss: 0.0034\n",
            "Epoch 121/200\n",
            "8/8 [==============================] - 0s 11ms/step - loss: 0.0064 - val_loss: 0.0033\n",
            "Epoch 122/200\n",
            "8/8 [==============================] - 0s 12ms/step - loss: 0.0059 - val_loss: 0.0035\n",
            "Epoch 123/200\n",
            "8/8 [==============================] - 0s 10ms/step - loss: 0.0073 - val_loss: 0.0035\n",
            "Epoch 124/200\n",
            "8/8 [==============================] - 0s 12ms/step - loss: 0.0069 - val_loss: 0.0033\n",
            "Epoch 125/200\n",
            "8/8 [==============================] - 0s 11ms/step - loss: 0.0068 - val_loss: 0.0033\n",
            "Epoch 126/200\n",
            "8/8 [==============================] - 0s 10ms/step - loss: 0.0062 - val_loss: 0.0034\n",
            "Epoch 127/200\n",
            "8/8 [==============================] - 0s 10ms/step - loss: 0.0099 - val_loss: 0.0033\n",
            "Epoch 128/200\n",
            "8/8 [==============================] - 0s 11ms/step - loss: 0.0089 - val_loss: 0.0033\n",
            "Epoch 129/200\n",
            "8/8 [==============================] - 0s 11ms/step - loss: 0.0074 - val_loss: 0.0033\n",
            "Epoch 130/200\n",
            "8/8 [==============================] - 0s 10ms/step - loss: 0.0062 - val_loss: 0.0034\n",
            "Epoch 131/200\n",
            "8/8 [==============================] - 0s 13ms/step - loss: 0.0066 - val_loss: 0.0034\n",
            "Epoch 132/200\n",
            "8/8 [==============================] - 0s 11ms/step - loss: 0.0077 - val_loss: 0.0033\n",
            "Epoch 133/200\n",
            "8/8 [==============================] - 0s 11ms/step - loss: 0.0063 - val_loss: 0.0033\n",
            "Epoch 134/200\n",
            "8/8 [==============================] - 0s 11ms/step - loss: 0.0084 - val_loss: 0.0033\n",
            "Epoch 135/200\n",
            "8/8 [==============================] - 0s 10ms/step - loss: 0.0064 - val_loss: 0.0036\n",
            "Epoch 136/200\n",
            "8/8 [==============================] - 0s 11ms/step - loss: 0.0059 - val_loss: 0.0035\n",
            "Epoch 137/200\n",
            "8/8 [==============================] - 0s 11ms/step - loss: 0.0057 - val_loss: 0.0036\n",
            "Epoch 138/200\n",
            "8/8 [==============================] - 0s 11ms/step - loss: 0.0085 - val_loss: 0.0033\n",
            "Epoch 139/200\n",
            "8/8 [==============================] - 0s 10ms/step - loss: 0.0068 - val_loss: 0.0033\n",
            "Epoch 140/200\n",
            "8/8 [==============================] - 0s 12ms/step - loss: 0.0075 - val_loss: 0.0033\n",
            "Epoch 141/200\n",
            "8/8 [==============================] - 0s 14ms/step - loss: 0.0061 - val_loss: 0.0034\n",
            "Epoch 142/200\n",
            "8/8 [==============================] - 0s 11ms/step - loss: 0.0058 - val_loss: 0.0034\n",
            "Epoch 143/200\n",
            "8/8 [==============================] - 0s 11ms/step - loss: 0.0062 - val_loss: 0.0039\n",
            "Epoch 144/200\n",
            "8/8 [==============================] - 0s 11ms/step - loss: 0.0077 - val_loss: 0.0033\n",
            "Epoch 145/200\n",
            "8/8 [==============================] - 0s 11ms/step - loss: 0.0083 - val_loss: 0.0033\n",
            "Epoch 146/200\n",
            "8/8 [==============================] - 0s 10ms/step - loss: 0.0059 - val_loss: 0.0034\n",
            "Epoch 147/200\n",
            "8/8 [==============================] - 0s 11ms/step - loss: 0.0057 - val_loss: 0.0034\n",
            "Epoch 148/200\n",
            "8/8 [==============================] - 0s 10ms/step - loss: 0.0056 - val_loss: 0.0034\n",
            "Epoch 149/200\n",
            "8/8 [==============================] - 0s 11ms/step - loss: 0.0053 - val_loss: 0.0035\n",
            "Epoch 150/200\n",
            "8/8 [==============================] - 0s 13ms/step - loss: 0.0060 - val_loss: 0.0035\n",
            "Epoch 151/200\n",
            "8/8 [==============================] - 0s 12ms/step - loss: 0.0052 - val_loss: 0.0036\n",
            "Epoch 152/200\n",
            "8/8 [==============================] - 0s 12ms/step - loss: 0.0067 - val_loss: 0.0033\n",
            "Epoch 153/200\n",
            "8/8 [==============================] - 0s 12ms/step - loss: 0.0067 - val_loss: 0.0033\n",
            "Epoch 154/200\n",
            "8/8 [==============================] - 0s 10ms/step - loss: 0.0060 - val_loss: 0.0035\n",
            "Epoch 155/200\n",
            "8/8 [==============================] - 0s 10ms/step - loss: 0.0060 - val_loss: 0.0034\n",
            "Epoch 156/200\n",
            "8/8 [==============================] - 0s 10ms/step - loss: 0.0058 - val_loss: 0.0034\n",
            "Epoch 157/200\n",
            "8/8 [==============================] - 0s 10ms/step - loss: 0.0062 - val_loss: 0.0033\n",
            "Epoch 158/200\n",
            "8/8 [==============================] - 0s 11ms/step - loss: 0.0066 - val_loss: 0.0037\n",
            "Epoch 159/200\n",
            "8/8 [==============================] - 0s 13ms/step - loss: 0.0066 - val_loss: 0.0034\n",
            "Epoch 160/200\n",
            "8/8 [==============================] - 0s 11ms/step - loss: 0.0061 - val_loss: 0.0038\n",
            "Epoch 161/200\n",
            "8/8 [==============================] - 0s 10ms/step - loss: 0.0072 - val_loss: 0.0033\n",
            "Epoch 162/200\n",
            "8/8 [==============================] - 0s 12ms/step - loss: 0.0073 - val_loss: 0.0033\n",
            "Epoch 163/200\n",
            "8/8 [==============================] - 0s 10ms/step - loss: 0.0062 - val_loss: 0.0033\n",
            "Epoch 164/200\n",
            "8/8 [==============================] - 0s 11ms/step - loss: 0.0064 - val_loss: 0.0034\n",
            "Epoch 165/200\n",
            "8/8 [==============================] - 0s 11ms/step - loss: 0.0060 - val_loss: 0.0036\n",
            "Epoch 166/200\n",
            "8/8 [==============================] - 0s 11ms/step - loss: 0.0073 - val_loss: 0.0033\n",
            "Epoch 167/200\n",
            "8/8 [==============================] - 0s 11ms/step - loss: 0.0072 - val_loss: 0.0033\n",
            "Epoch 168/200\n",
            "8/8 [==============================] - 0s 11ms/step - loss: 0.0066 - val_loss: 0.0034\n",
            "Epoch 169/200\n",
            "8/8 [==============================] - 0s 12ms/step - loss: 0.0051 - val_loss: 0.0037\n",
            "Epoch 170/200\n",
            "8/8 [==============================] - 0s 10ms/step - loss: 0.0071 - val_loss: 0.0033\n",
            "Epoch 171/200\n",
            "8/8 [==============================] - 0s 11ms/step - loss: 0.0082 - val_loss: 0.0033\n",
            "Epoch 172/200\n",
            "8/8 [==============================] - 0s 11ms/step - loss: 0.0082 - val_loss: 0.0035\n",
            "Epoch 173/200\n",
            "8/8 [==============================] - 0s 12ms/step - loss: 0.0071 - val_loss: 0.0034\n",
            "Epoch 174/200\n",
            "8/8 [==============================] - 0s 10ms/step - loss: 0.0072 - val_loss: 0.0034\n",
            "Epoch 175/200\n",
            "8/8 [==============================] - 0s 11ms/step - loss: 0.0066 - val_loss: 0.0033\n",
            "Epoch 176/200\n",
            "8/8 [==============================] - 0s 11ms/step - loss: 0.0093 - val_loss: 0.0033\n",
            "Epoch 177/200\n",
            "8/8 [==============================] - 0s 11ms/step - loss: 0.0065 - val_loss: 0.0035\n",
            "Epoch 178/200\n",
            "8/8 [==============================] - 0s 11ms/step - loss: 0.0081 - val_loss: 0.0033\n",
            "Epoch 179/200\n",
            "8/8 [==============================] - 0s 10ms/step - loss: 0.0092 - val_loss: 0.0033\n",
            "Epoch 180/200\n",
            "8/8 [==============================] - 0s 11ms/step - loss: 0.0047 - val_loss: 0.0035\n",
            "Epoch 181/200\n",
            "8/8 [==============================] - 0s 10ms/step - loss: 0.0063 - val_loss: 0.0033\n",
            "Epoch 182/200\n",
            "8/8 [==============================] - 0s 11ms/step - loss: 0.0070 - val_loss: 0.0033\n",
            "Epoch 183/200\n",
            "8/8 [==============================] - 0s 12ms/step - loss: 0.0091 - val_loss: 0.0033\n",
            "Epoch 184/200\n",
            "8/8 [==============================] - 0s 10ms/step - loss: 0.0052 - val_loss: 0.0035\n",
            "Epoch 185/200\n",
            "8/8 [==============================] - 0s 10ms/step - loss: 0.0068 - val_loss: 0.0033\n",
            "Epoch 186/200\n",
            "8/8 [==============================] - 0s 10ms/step - loss: 0.0097 - val_loss: 0.0033\n",
            "Epoch 187/200\n",
            "8/8 [==============================] - 0s 11ms/step - loss: 0.0074 - val_loss: 0.0033\n",
            "Epoch 188/200\n",
            "8/8 [==============================] - 0s 10ms/step - loss: 0.0057 - val_loss: 0.0034\n",
            "Epoch 189/200\n",
            "8/8 [==============================] - 0s 12ms/step - loss: 0.0066 - val_loss: 0.0033\n",
            "Epoch 190/200\n",
            "8/8 [==============================] - 0s 10ms/step - loss: 0.0081 - val_loss: 0.0034\n",
            "Epoch 191/200\n",
            "8/8 [==============================] - 0s 10ms/step - loss: 0.0078 - val_loss: 0.0033\n",
            "Epoch 192/200\n",
            "8/8 [==============================] - 0s 10ms/step - loss: 0.0053 - val_loss: 0.0034\n",
            "Epoch 193/200\n",
            "8/8 [==============================] - 0s 10ms/step - loss: 0.0064 - val_loss: 0.0033\n",
            "Epoch 194/200\n",
            "8/8 [==============================] - 0s 10ms/step - loss: 0.0062 - val_loss: 0.0035\n",
            "Epoch 195/200\n",
            "8/8 [==============================] - 0s 10ms/step - loss: 0.0065 - val_loss: 0.0034\n",
            "Epoch 196/200\n",
            "8/8 [==============================] - 0s 11ms/step - loss: 0.0076 - val_loss: 0.0033\n",
            "Epoch 197/200\n",
            "8/8 [==============================] - 0s 10ms/step - loss: 0.0068 - val_loss: 0.0035\n",
            "Epoch 198/200\n",
            "8/8 [==============================] - 0s 11ms/step - loss: 0.0081 - val_loss: 0.0033\n",
            "Epoch 199/200\n",
            "8/8 [==============================] - 0s 10ms/step - loss: 0.0066 - val_loss: 0.0034\n",
            "Epoch 200/200\n",
            "8/8 [==============================] - 0s 11ms/step - loss: 0.0068 - val_loss: 0.0033\n"
          ],
          "name": "stdout"
        },
        {
          "output_type": "execute_result",
          "data": {
            "text/plain": [
              "<tensorflow.python.keras.callbacks.History at 0x7f89f1f12d50>"
            ]
          },
          "metadata": {
            "tags": []
          },
          "execution_count": 79
        }
      ]
    },
    {
      "cell_type": "markdown",
      "metadata": {
        "id": "p-WCC6GsbUCf"
      },
      "source": [
        "# **Extract testing data the same way**\n",
        "\n",
        "\n",
        "\n",
        "\n",
        "\n"
      ]
    },
    {
      "cell_type": "code",
      "metadata": {
        "colab": {
          "base_uri": "https://localhost:8080/"
        },
        "id": "GOxV_qbnbYot",
        "outputId": "8c417f13-5fa6-4a4b-af63-98d293304a2d"
      },
      "source": [
        "#testing data\n",
        "\n",
        "# number of FEM nodes (control nodes in Higa setting)\n",
        "n_FEMnodes = 11\n",
        "# number of parameters(mu, beta1, beta2, sigma, f)\n",
        "n_params = 5\n",
        "# number of PDEs problems considered (CHANGED WRT TRAINING STAGE OF COURSE)\n",
        "t_PDEs = 1\n",
        "# number of quadrature nodes for each FEM node\n",
        "data_size = 100 #(expected_output.shape[1])\n",
        "\n",
        "#import expected output dataset\n",
        "t_expected_output = np.loadtxt('TestOutput.txt')\n",
        "print(t_expected_output.shape) # n FEM nodes x t PDEs x n QUAD nodes\n",
        "\n",
        "# import input dataset (think about importing n PDEs files instead SolutionInput_1.txt ... SolutionInput_nPDEs.txt)\n",
        "t_input = np.loadtxt('TestInput.txt')\n",
        "print(t_input.shape) # n FEM nodes x n PDEs x t params x n QUAD nodes"
      ],
      "execution_count": null,
      "outputs": [
        {
          "output_type": "stream",
          "text": [
            "(11, 100)\n",
            "(55, 100)\n"
          ],
          "name": "stdout"
        }
      ]
    },
    {
      "cell_type": "markdown",
      "metadata": {
        "id": "np811yIDb3_L"
      },
      "source": [
        "Reshaping testing expected output"
      ]
    },
    {
      "cell_type": "code",
      "metadata": {
        "colab": {
          "base_uri": "https://localhost:8080/"
        },
        "id": "hH4HMTq9bxim",
        "outputId": "f0277467-c458-4a59-cae7-fb872f8b7804"
      },
      "source": [
        "t_expected_output_rshpd = t_expected_output.reshape([t_PDEs, n_FEMnodes, data_size])\n",
        "print(t_expected_output_rshpd.shape) # t PDEs x n FEM nodes x n QUAD nodes"
      ],
      "execution_count": null,
      "outputs": [
        {
          "output_type": "stream",
          "text": [
            "(1, 11, 100)\n"
          ],
          "name": "stdout"
        }
      ]
    },
    {
      "cell_type": "code",
      "metadata": {
        "id": "3F7X78BVb2_a"
      },
      "source": [
        "#t_expected_output_rshpd = np.swapaxes(t_expected_output_rshpd, 0, 1)\n",
        "#print(t_expected_output_rshpd.shape) # t FEM nodes x n PDEs x n QUAD nodes"
      ],
      "execution_count": null,
      "outputs": []
    },
    {
      "cell_type": "markdown",
      "metadata": {
        "id": "KcrFp26FcEMf"
      },
      "source": [
        "Reshaping testing input"
      ]
    },
    {
      "cell_type": "code",
      "metadata": {
        "colab": {
          "base_uri": "https://localhost:8080/"
        },
        "id": "4p0juCbFcEMf",
        "outputId": "508233e3-6cc9-4361-d359-9662dc8908d1"
      },
      "source": [
        "t_input_rshpd = t_input.reshape([t_PDEs, n_FEMnodes, n_params, data_size])\n",
        "print(t_input_rshpd.shape) # t PDEs x n FEM nodes x n params x n QUAD nodes"
      ],
      "execution_count": null,
      "outputs": [
        {
          "output_type": "stream",
          "text": [
            "(1, 11, 5, 100)\n"
          ],
          "name": "stdout"
        }
      ]
    },
    {
      "cell_type": "code",
      "metadata": {
        "id": "XyZJgLc8cEMh"
      },
      "source": [
        "#t_input_rshpd = np.swapaxes(t_input_rshpd, 0, 1)\n",
        "#print(t_input_rshpd.shape) # t FEM nodes x n PDEs x n params x n QUAD nodes"
      ],
      "execution_count": null,
      "outputs": []
    },
    {
      "cell_type": "markdown",
      "metadata": {
        "id": "sa-sczw5cxx0"
      },
      "source": [
        "Evaluate the model through the testing dataset"
      ]
    },
    {
      "cell_type": "code",
      "metadata": {
        "colab": {
          "base_uri": "https://localhost:8080/"
        },
        "id": "wvqbr3jCdGvF",
        "outputId": "597c950f-06ec-4c3b-f28c-cb2703abf79e"
      },
      "source": [
        "x_test = t_input_rshpd\n",
        "#x_test = np.expand_dims(x_test, 4) \n",
        "y_test = t_expected_output_rshpd\n",
        "\n",
        "print(x_test.shape)\n",
        "print(y_test.shape) "
      ],
      "execution_count": null,
      "outputs": [
        {
          "output_type": "stream",
          "text": [
            "(1, 11, 5, 100)\n",
            "(1, 11, 100)\n"
          ],
          "name": "stdout"
        }
      ]
    },
    {
      "cell_type": "code",
      "metadata": {
        "id": "BAZNJQwkgfSj",
        "colab": {
          "base_uri": "https://localhost:8080/"
        },
        "outputId": "7aa477a1-6bb7-4627-aa4f-53154b4df156"
      },
      "source": [
        "test_loss = model.evaluate(x_test, y_test)\n",
        "print('Test loss:', test_loss)"
      ],
      "execution_count": null,
      "outputs": [
        {
          "output_type": "stream",
          "text": [
            "1/1 [==============================] - 0s 169ms/step - loss: 0.0037\n",
            "Test loss: 0.0037447893992066383\n"
          ],
          "name": "stdout"
        }
      ]
    },
    {
      "cell_type": "markdown",
      "metadata": {
        "id": "95TEWCTvRocE"
      },
      "source": [
        "Predict the output for the desidered input"
      ]
    },
    {
      "cell_type": "code",
      "metadata": {
        "colab": {
          "base_uri": "https://localhost:8080/"
        },
        "id": "yajl0zGxRs4I",
        "outputId": "b10967f1-8b0e-450e-ff1d-b4ad0498a76d"
      },
      "source": [
        "result = model.predict(x_test, batch_size=50)\n",
        "print(result.shape)"
      ],
      "execution_count": null,
      "outputs": [
        {
          "output_type": "stream",
          "text": [
            "WARNING:tensorflow:6 out of the last 8 calls to <function Model.make_predict_function.<locals>.predict_function at 0x7f89f2079e60> triggered tf.function retracing. Tracing is expensive and the excessive number of tracings could be due to (1) creating @tf.function repeatedly in a loop, (2) passing tensors with different shapes, (3) passing Python objects instead of tensors. For (1), please define your @tf.function outside of the loop. For (2), @tf.function has experimental_relax_shapes=True option that relaxes argument shapes that can avoid unnecessary retracing. For (3), please refer to https://www.tensorflow.org/guide/function#controlling_retracing and https://www.tensorflow.org/api_docs/python/tf/function for  more details.\n",
            "(1, 11, 100)\n"
          ],
          "name": "stdout"
        }
      ]
    },
    {
      "cell_type": "code",
      "metadata": {
        "id": "n2rY0h1RkLDz"
      },
      "source": [
        "result"
      ],
      "execution_count": null,
      "outputs": []
    },
    {
      "cell_type": "markdown",
      "metadata": {
        "id": "tyhBCQMWdE70"
      },
      "source": [
        "Write a file containing the results of the output of the CNN on the input x_test"
      ]
    },
    {
      "cell_type": "code",
      "metadata": {
        "id": "TyDCJsBIdEE5"
      },
      "source": [
        "result = result.reshape((n_FEMnodes, data_size))\n",
        "f = open(\"output_ML.txt\", \"w\")\n",
        "\n",
        "for i in range(result.shape[0]):\n",
        "  for j in range(result.shape[1]):\n",
        "    f.write(str(result[i][j]))\n",
        "    f.write(\"  \")\n",
        "  f.write(\"\\n\")\n",
        "\n",
        "f.close()"
      ],
      "execution_count": null,
      "outputs": []
    },
    {
      "cell_type": "code",
      "metadata": {
        "id": "k1vmKU9vi0Jp"
      },
      "source": [
        ""
      ],
      "execution_count": null,
      "outputs": []
    }
  ]
}