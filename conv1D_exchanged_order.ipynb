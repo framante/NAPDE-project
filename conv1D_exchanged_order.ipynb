{
  "nbformat": 4,
  "nbformat_minor": 0,
  "metadata": {
    "colab": {
      "name": "conv1D-exchanged-order.ipynb",
      "provenance": [],
      "collapsed_sections": [],
      "authorship_tag": "ABX9TyMp4K/1FX2QPWmwieBKQocs",
      "include_colab_link": true
    },
    "kernelspec": {
      "name": "python3",
      "display_name": "Python 3"
    },
    "language_info": {
      "name": "python"
    }
  },
  "cells": [
    {
      "cell_type": "markdown",
      "metadata": {
        "id": "view-in-github",
        "colab_type": "text"
      },
      "source": [
        "<a href=\"https://colab.research.google.com/github/framante/NAPDE-project/blob/main/conv1D_exchanged_order.ipynb\" target=\"_parent\"><img src=\"https://colab.research.google.com/assets/colab-badge.svg\" alt=\"Open In Colab\"/></a>"
      ]
    },
    {
      "cell_type": "code",
      "metadata": {
        "id": "PhPXshQOJYbV"
      },
      "source": [
        "import numpy as np\n",
        "import tensorflow as tf\n",
        "from keras.layers.core import Reshape"
      ],
      "execution_count": null,
      "outputs": []
    },
    {
      "cell_type": "markdown",
      "metadata": {
        "id": "QpKboFVrwIlD"
      },
      "source": [
        "REMEMBER THAT IN PYTHON THE FIRST DIMENSION OF A TENSOR IS THE WIDTH, WHICH I USUALLY CONSIDER AS THE THIRD ONE, while the remaining others are the dimension of a classical matrix n rows x n cols"
      ]
    },
    {
      "cell_type": "code",
      "metadata": {
        "colab": {
          "base_uri": "https://localhost:8080/"
        },
        "id": "5eLfQGbA0Vyd",
        "outputId": "39a909a2-2a0b-4e46-a9fc-2b17df78e785"
      },
      "source": [
        "#training data\n",
        "\n",
        "# FINAL STEP: here we implement the version for all FEM nodes (hopefully)\n",
        "\n",
        "# number of FEM nodes (control nodes in Higa setting)\n",
        "n_FEMnodes = 11\n",
        "# number of parameters(mu, beta1, beta2, sigma, f)\n",
        "n_params = 5\n",
        "# number of PDEs problems considered\n",
        "n_PDEs = 200\n",
        "# number of quadrature nodes for each FEM node\n",
        "data_size = 100 #(expected_output.shape[1])\n",
        "\n",
        "#import expected output dataset\n",
        "expected_output = np.loadtxt('SolutionOutput.txt')\n",
        "print(expected_output.shape) # n FEM nodes x n PDEs x n QUAD nodes\n",
        "\n",
        "# import input dataset (think about importing n PDEs files instead SolutionInput_1.txt ... SolutionInput_nPDEs.txt)\n",
        "input = np.loadtxt('SolutionInput.txt')\n",
        "print(input.shape) # n FEM nodes x n PDEs x n params x n QUAD nodes"
      ],
      "execution_count": null,
      "outputs": [
        {
          "output_type": "stream",
          "text": [
            "(2200, 100)\n",
            "(11000, 100)\n"
          ],
          "name": "stdout"
        }
      ]
    },
    {
      "cell_type": "markdown",
      "metadata": {
        "id": "xTVtuB2vxsGr"
      },
      "source": [
        "Reshaping the expected output such that it's a tensor where each matrix is (n FEM nodes x n QUAD nodes) and the third dimension is the n PDEs"
      ]
    },
    {
      "cell_type": "code",
      "metadata": {
        "colab": {
          "base_uri": "https://localhost:8080/"
        },
        "id": "pxbsFEfrlPBE",
        "outputId": "f55ebf66-ff69-4b4d-aace-d0ca0ed855e8"
      },
      "source": [
        "expected_output_rshpd = expected_output.reshape([n_PDEs, n_FEMnodes, data_size])\n",
        "print(expected_output_rshpd.shape) # n PDEs x n FEM nodes x n QUAD nodes"
      ],
      "execution_count": null,
      "outputs": [
        {
          "output_type": "stream",
          "text": [
            "(200, 11, 100)\n"
          ],
          "name": "stdout"
        }
      ]
    },
    {
      "cell_type": "markdown",
      "metadata": {
        "id": "_9lFuzI3xKlO"
      },
      "source": [
        "\"Rolling the dice\" so that we have a tensor where each matrix is (n PDEs x n QUAD nodes) and the third dimension is n FEM nodes"
      ]
    },
    {
      "cell_type": "code",
      "metadata": {
        "id": "YPAuGoa5xJtz"
      },
      "source": [
        "#expected_output_rshpd = np.swapaxes(expected_output_rshpd, 0, 1)\n",
        "#print(expected_output_rshpd.shape) # n FEM nodes x n PDEs x n QUAD nodes"
      ],
      "execution_count": null,
      "outputs": []
    },
    {
      "cell_type": "markdown",
      "metadata": {
        "id": "nSaNu61UoooH"
      },
      "source": [
        "Reshaping input"
      ]
    },
    {
      "cell_type": "code",
      "metadata": {
        "colab": {
          "base_uri": "https://localhost:8080/"
        },
        "id": "3_JBrHcn5KyD",
        "outputId": "7e2c55bd-03ff-4743-9948-ddfa1fc5ce6b"
      },
      "source": [
        "input_rshpd = input.reshape([n_PDEs, n_FEMnodes, n_params, data_size])\n",
        "print(input_rshpd.shape) # n PDEs x n FEM nodes x n params x n QUAD nodes"
      ],
      "execution_count": null,
      "outputs": [
        {
          "output_type": "stream",
          "text": [
            "(200, 11, 5, 100)\n"
          ],
          "name": "stdout"
        }
      ]
    },
    {
      "cell_type": "code",
      "metadata": {
        "id": "LPuKVlgEopUx"
      },
      "source": [
        "#input_rshpd = np.swapaxes(input_rshpd, 0, 1)\n",
        "#print(input_rshpd.shape) # n FEM nodes x n PDEs x n params x n QUAD nodes"
      ],
      "execution_count": null,
      "outputs": []
    },
    {
      "cell_type": "markdown",
      "metadata": {
        "id": "mucgUIqZy7Rl"
      },
      "source": [
        "The training data should be interpreted as input and expected output\n",
        "\n",
        "\n",
        "the input is given by the terms (mu, beta1, beta2, sigma, force) of the ADR problem  computed in the grid (n FEM nodes x n QUAD nodes)\n",
        "\n",
        "the output is given by the kind-of-solution (...specify how it has been got....) evaluated in the grid (n FEM nodes x n QUAD nodes)"
      ]
    },
    {
      "cell_type": "code",
      "metadata": {
        "id": "BWRTHWc7KCyf",
        "colab": {
          "base_uri": "https://localhost:8080/"
        },
        "outputId": "90a79a08-e272-498f-90ec-4e355043c705"
      },
      "source": [
        "x_train = input_rshpd\n",
        "#x_train = np.expand_dims(x_train, 4) \n",
        "y_train = expected_output_rshpd\n",
        "\n",
        "print(x_train.shape)\n",
        "print(y_train.shape) "
      ],
      "execution_count": null,
      "outputs": [
        {
          "output_type": "stream",
          "text": [
            "(200, 11, 5, 100)\n",
            "(200, 11, 100)\n"
          ],
          "name": "stdout"
        }
      ]
    },
    {
      "cell_type": "markdown",
      "metadata": {
        "id": "3S2n7R0ERE6Y"
      },
      "source": [
        "training for all n_FEMnodes, the tuning of the width of the window is done within the layers conv1D"
      ]
    },
    {
      "cell_type": "code",
      "metadata": {
        "id": "WLuM0SCmxfCy",
        "colab": {
          "base_uri": "https://localhost:8080/"
        },
        "outputId": "85aba149-cb55-431d-cbcf-757a300b8e9b"
      },
      "source": [
        "input_shape = (n_FEMnodes, n_params, data_size)\n",
        "print(input_shape)\n",
        "\n",
        "model = tf.keras.Sequential()\n",
        "\n",
        "layer1 = tf.keras.Input(shape=input_shape)\n",
        "model.add(layer1)\n",
        "\n",
        "layer2 = tf.keras.layers.Dense(40, activation=\"relu\")\n",
        "model.add(layer2)\n",
        "\n",
        "layer3 = tf.keras.layers.Conv1D(20, kernel_size=(5,), activation=\"relu\")\n",
        "model.add(layer3)\n",
        "\n",
        "layer4 = tf.keras.layers.Dropout(0.2)\n",
        "model.add(layer4)\n",
        "\n",
        "#layer5 = tf.keras.layers.Conv1D(30, kernel_size=2, activation=\"relu\")\n",
        "#model.add(layer5)\n",
        "\n",
        "#layer6 = tf.keras.layers.Dropout(0.2)\n",
        "#model.add(layer6)\n",
        "\n",
        "# layer = tf.keras.layers.MaxPool1D(pool_size=2)\n",
        "# we cannot use a pooling layer since it requires the dimension of input to be : (batch_shape, steps, features)\n",
        "# and we have instead 4 dimensions\n",
        "\n",
        "#layer8 = tf.keras.layers.Conv1D(10, kernel_size=2, activation=\"relu\")\n",
        "#model.add(layer8)\n",
        "\n",
        "model.add(tf.keras.layers.Reshape((n_FEMnodes, 20)) )\n",
        "\n",
        "layer9 = tf.keras.layers.Conv1D(10, kernel_size=3, padding=\"same\", activation=\"relu\")\n",
        "model.add(layer9)\n",
        "\n",
        "layer10 = tf.keras.layers.Dropout(0.5)\n",
        "model.add(layer10)\n",
        "\n",
        "layer11 = tf.keras.layers.Dense(data_size)\n",
        "model.add(layer11)\n",
        "\n",
        "#tf.keras.layers.MaxPool1D(pool_size=2)\n",
        "#tf.keras.layers.Flatten()\n",
        "\n",
        "#layer11 = tf.keras.layers.Dense(data_size)\n",
        "#model.add(layer11)"
      ],
      "execution_count": null,
      "outputs": [
        {
          "output_type": "stream",
          "text": [
            "(11, 5, 100)\n"
          ],
          "name": "stdout"
        }
      ]
    },
    {
      "cell_type": "code",
      "metadata": {
        "id": "JvAnA-g-8bkd",
        "colab": {
          "base_uri": "https://localhost:8080/"
        },
        "outputId": "0afeb085-1aeb-4c80-8bff-33a16f2ae35f"
      },
      "source": [
        "print(input_shape)\n",
        "model.summary()"
      ],
      "execution_count": null,
      "outputs": [
        {
          "output_type": "stream",
          "text": [
            "(11, 5, 100)\n",
            "Model: \"sequential\"\n",
            "_________________________________________________________________\n",
            "Layer (type)                 Output Shape              Param #   \n",
            "=================================================================\n",
            "dense (Dense)                (None, 11, 5, 40)         4040      \n",
            "_________________________________________________________________\n",
            "conv1d (Conv1D)              (None, 11, 1, 20)         4020      \n",
            "_________________________________________________________________\n",
            "dropout (Dropout)            (None, 11, 1, 20)         0         \n",
            "_________________________________________________________________\n",
            "reshape (Reshape)            (None, 11, 20)            0         \n",
            "_________________________________________________________________\n",
            "conv1d_1 (Conv1D)            (None, 11, 10)            610       \n",
            "_________________________________________________________________\n",
            "dropout_1 (Dropout)          (None, 11, 10)            0         \n",
            "_________________________________________________________________\n",
            "dense_1 (Dense)              (None, 11, 100)           1100      \n",
            "=================================================================\n",
            "Total params: 9,770\n",
            "Trainable params: 9,770\n",
            "Non-trainable params: 0\n",
            "_________________________________________________________________\n"
          ],
          "name": "stdout"
        }
      ]
    },
    {
      "cell_type": "code",
      "metadata": {
        "id": "sOTJ4vNSnd99"
      },
      "source": [
        "tf.keras.utils.plot_model(model, \"model_shape_info.png\", show_shapes=True)"
      ],
      "execution_count": null,
      "outputs": []
    },
    {
      "cell_type": "code",
      "metadata": {
        "id": "HyLkl2JN3O1i"
      },
      "source": [
        "model.compile(optimizer = tf.keras.optimizers.RMSprop(learning_rate=0.2,rho=0.9), \n",
        "              loss = \"mse\", \n",
        "              metrics=tf.keras.metrics.MeanSquaredLogarithmicError( name='msl_err', dtype=None)\n",
        "              )"
      ],
      "execution_count": null,
      "outputs": []
    },
    {
      "cell_type": "code",
      "metadata": {
        "id": "Yo_J65jVxo3v",
        "colab": {
          "base_uri": "https://localhost:8080/"
        },
        "outputId": "cdd1c245-9fe4-439a-a866-bbae20bf5916"
      },
      "source": [
        "batch_size = 20\n",
        "epochs = 10\n",
        "model.fit(x_train, y_train, batch_size=batch_size, epochs=epochs, validation_split = 0.2)"
      ],
      "execution_count": null,
      "outputs": [
        {
          "output_type": "stream",
          "text": [
            "Epoch 1/10\n",
            "8/8 [==============================] - 1s 29ms/step - loss: 18613179587.0869 - msl_err: 9.6075 - val_loss: 0.5542 - val_msl_err: 0.0990\n",
            "Epoch 2/10\n",
            "8/8 [==============================] - 0s 8ms/step - loss: 0.6038 - msl_err: 0.1100 - val_loss: 0.5541 - val_msl_err: 0.0990\n",
            "Epoch 3/10\n",
            "8/8 [==============================] - 0s 9ms/step - loss: 0.6069 - msl_err: 0.1113 - val_loss: 0.5540 - val_msl_err: 0.0990\n",
            "Epoch 4/10\n",
            "8/8 [==============================] - 0s 8ms/step - loss: 0.5787 - msl_err: 0.1051 - val_loss: 0.5539 - val_msl_err: 0.0990\n",
            "Epoch 5/10\n",
            "8/8 [==============================] - 0s 10ms/step - loss: 1.7701 - msl_err: 0.1188 - val_loss: 0.5536 - val_msl_err: 0.0989\n",
            "Epoch 6/10\n",
            "8/8 [==============================] - 0s 8ms/step - loss: 0.5713 - msl_err: 0.1036 - val_loss: 0.5533 - val_msl_err: 0.0989\n",
            "Epoch 7/10\n",
            "8/8 [==============================] - 0s 8ms/step - loss: 0.5914 - msl_err: 0.1085 - val_loss: 0.5528 - val_msl_err: 0.0988\n",
            "Epoch 8/10\n",
            "8/8 [==============================] - 0s 9ms/step - loss: 0.5853 - msl_err: 0.1067 - val_loss: 0.5520 - val_msl_err: 0.0987\n",
            "Epoch 9/10\n",
            "8/8 [==============================] - 0s 8ms/step - loss: 0.5700 - msl_err: 0.1032 - val_loss: 0.5509 - val_msl_err: 0.0986\n",
            "Epoch 10/10\n",
            "8/8 [==============================] - 0s 9ms/step - loss: 0.5850 - msl_err: 0.1071 - val_loss: 0.5491 - val_msl_err: 0.0984\n"
          ],
          "name": "stdout"
        },
        {
          "output_type": "execute_result",
          "data": {
            "text/plain": [
              "<tensorflow.python.keras.callbacks.History at 0x7f54a0f8fd50>"
            ]
          },
          "metadata": {
            "tags": []
          },
          "execution_count": 13
        }
      ]
    },
    {
      "cell_type": "markdown",
      "metadata": {
        "id": "p-WCC6GsbUCf"
      },
      "source": [
        "# **Extract testing data the same way**\n",
        "\n",
        "\n",
        "\n",
        "\n",
        "\n"
      ]
    },
    {
      "cell_type": "code",
      "metadata": {
        "colab": {
          "base_uri": "https://localhost:8080/"
        },
        "id": "GOxV_qbnbYot",
        "outputId": "9cf87755-612a-4cbb-9579-e12559e7dec8"
      },
      "source": [
        "#testing data\n",
        "\n",
        "# number of FEM nodes (control nodes in Higa setting)\n",
        "n_FEMnodes = 11\n",
        "# number of parameters(mu, beta1, beta2, sigma, f)\n",
        "n_params = 5\n",
        "# number of PDEs problems considered (CHANGED WRT TRAINING STAGE OF COURSE)\n",
        "t_PDEs = 1\n",
        "# number of quadrature nodes for each FEM node\n",
        "data_size = 100 #(expected_output.shape[1])\n",
        "\n",
        "#import expected output dataset\n",
        "t_expected_output = np.loadtxt('TestOutput.txt')\n",
        "print(t_expected_output.shape) # n FEM nodes x t PDEs x n QUAD nodes\n",
        "\n",
        "# import input dataset (think about importing n PDEs files instead SolutionInput_1.txt ... SolutionInput_nPDEs.txt)\n",
        "t_input = np.loadtxt('TestInput.txt')\n",
        "print(t_input.shape) # n FEM nodes x n PDEs x t params x n QUAD nodes"
      ],
      "execution_count": null,
      "outputs": [
        {
          "output_type": "stream",
          "text": [
            "(11, 100)\n",
            "(55, 100)\n"
          ],
          "name": "stdout"
        }
      ]
    },
    {
      "cell_type": "markdown",
      "metadata": {
        "id": "np811yIDb3_L"
      },
      "source": [
        "Reshaping testing expected output"
      ]
    },
    {
      "cell_type": "code",
      "metadata": {
        "colab": {
          "base_uri": "https://localhost:8080/"
        },
        "id": "hH4HMTq9bxim",
        "outputId": "8dad4a8a-7e3a-48e7-ee3b-4f1b6260d188"
      },
      "source": [
        "t_expected_output_rshpd = t_expected_output.reshape([t_PDEs, n_FEMnodes, data_size])\n",
        "print(t_expected_output_rshpd.shape) # t PDEs x n FEM nodes x n QUAD nodes"
      ],
      "execution_count": null,
      "outputs": [
        {
          "output_type": "stream",
          "text": [
            "(1, 11, 100)\n"
          ],
          "name": "stdout"
        }
      ]
    },
    {
      "cell_type": "code",
      "metadata": {
        "id": "3F7X78BVb2_a"
      },
      "source": [
        "#t_expected_output_rshpd = np.swapaxes(t_expected_output_rshpd, 0, 1)\n",
        "#print(t_expected_output_rshpd.shape) # t FEM nodes x n PDEs x n QUAD nodes"
      ],
      "execution_count": null,
      "outputs": []
    },
    {
      "cell_type": "markdown",
      "metadata": {
        "id": "KcrFp26FcEMf"
      },
      "source": [
        "Reshaping testing input"
      ]
    },
    {
      "cell_type": "code",
      "metadata": {
        "colab": {
          "base_uri": "https://localhost:8080/"
        },
        "id": "4p0juCbFcEMf",
        "outputId": "9a66d860-fee5-4617-c227-a3e757218b74"
      },
      "source": [
        "t_input_rshpd = t_input.reshape([t_PDEs, n_FEMnodes, n_params, data_size])\n",
        "print(t_input_rshpd.shape) # t PDEs x n FEM nodes x n params x n QUAD nodes"
      ],
      "execution_count": null,
      "outputs": [
        {
          "output_type": "stream",
          "text": [
            "(1, 11, 5, 100)\n"
          ],
          "name": "stdout"
        }
      ]
    },
    {
      "cell_type": "code",
      "metadata": {
        "id": "XyZJgLc8cEMh"
      },
      "source": [
        "#t_input_rshpd = np.swapaxes(t_input_rshpd, 0, 1)\n",
        "#print(t_input_rshpd.shape) # t FEM nodes x n PDEs x n params x n QUAD nodes"
      ],
      "execution_count": null,
      "outputs": []
    },
    {
      "cell_type": "markdown",
      "metadata": {
        "id": "sa-sczw5cxx0"
      },
      "source": [
        "Evaluate the model through the testing dataset"
      ]
    },
    {
      "cell_type": "code",
      "metadata": {
        "colab": {
          "base_uri": "https://localhost:8080/"
        },
        "id": "wvqbr3jCdGvF",
        "outputId": "e7556cfa-c710-4426-e67c-543cd2b8c6d8"
      },
      "source": [
        "x_test = t_input_rshpd\n",
        "#x_test = np.expand_dims(x_test, 4) \n",
        "y_test = t_expected_output_rshpd\n",
        "\n",
        "print(x_test.shape)\n",
        "print(y_test.shape) "
      ],
      "execution_count": null,
      "outputs": [
        {
          "output_type": "stream",
          "text": [
            "(1, 11, 5, 100)\n",
            "(1, 11, 100)\n"
          ],
          "name": "stdout"
        }
      ]
    },
    {
      "cell_type": "code",
      "metadata": {
        "id": "BAZNJQwkgfSj",
        "colab": {
          "base_uri": "https://localhost:8080/"
        },
        "outputId": "fa50c445-a356-48e0-d003-605951bb1e9b"
      },
      "source": [
        "test_loss, test_acc = model.evaluate(x_test, y_test)\n",
        "print('Test accuracy:', test_acc)\n",
        "print('Test loss:', test_loss)"
      ],
      "execution_count": null,
      "outputs": [
        {
          "output_type": "stream",
          "text": [
            "1/1 [==============================] - 0s 155ms/step - loss: 0.5702 - msl_err: 0.0974\n",
            "Test accuracy: 0.09738525748252869\n",
            "Test loss: 0.5701659917831421\n"
          ],
          "name": "stdout"
        }
      ]
    },
    {
      "cell_type": "markdown",
      "metadata": {
        "id": "95TEWCTvRocE"
      },
      "source": [
        "Predict the output for the desidered input"
      ]
    },
    {
      "cell_type": "code",
      "metadata": {
        "colab": {
          "base_uri": "https://localhost:8080/"
        },
        "id": "yajl0zGxRs4I",
        "outputId": "eab70fc2-8588-418b-96d1-1e62e2010e40"
      },
      "source": [
        "result = model.predict(x_test, batch_size=50)\n",
        "print(result.shape)"
      ],
      "execution_count": null,
      "outputs": [
        {
          "output_type": "stream",
          "text": [
            "(1, 11, 100)\n"
          ],
          "name": "stdout"
        }
      ]
    },
    {
      "cell_type": "code",
      "metadata": {
        "colab": {
          "base_uri": "https://localhost:8080/"
        },
        "id": "n2rY0h1RkLDz",
        "outputId": "df5fde16-7139-4e18-cfaf-0b042ec07300"
      },
      "source": [
        "result"
      ],
      "execution_count": null,
      "outputs": [
        {
          "output_type": "execute_result",
          "data": {
            "text/plain": [
              "array([[[-1.4388157e-05,  1.9824533e-05,  2.6123433e-05, ...,\n",
              "         -1.2603874e+00,  1.8195207e-05,  1.9739196e-05],\n",
              "        [-1.4388157e-05,  1.9824533e-05,  2.6123433e-05, ...,\n",
              "         -1.2603874e+00,  1.8195207e-05,  1.9739196e-05],\n",
              "        [-1.4388157e-05,  1.9824533e-05,  2.6123433e-05, ...,\n",
              "         -1.2603874e+00,  1.8195207e-05,  1.9739196e-05],\n",
              "        ...,\n",
              "        [-1.4388157e-05,  1.9824533e-05,  2.6123433e-05, ...,\n",
              "         -1.2603874e+00,  1.8195207e-05,  1.9739196e-05],\n",
              "        [-1.4388157e-05,  1.9824533e-05,  2.6123433e-05, ...,\n",
              "         -1.2603874e+00,  1.8195207e-05,  1.9739196e-05],\n",
              "        [-1.4388157e-05,  1.9824533e-05,  2.6123433e-05, ...,\n",
              "         -1.2603874e+00,  1.8195207e-05,  1.9739196e-05]]], dtype=float32)"
            ]
          },
          "metadata": {
            "tags": []
          },
          "execution_count": 21
        }
      ]
    },
    {
      "cell_type": "markdown",
      "metadata": {
        "id": "tyhBCQMWdE70"
      },
      "source": [
        "Write a file containing the results of the output of the CNN on the input x_test"
      ]
    },
    {
      "cell_type": "code",
      "metadata": {
        "id": "TyDCJsBIdEE5"
      },
      "source": [
        "result = result.reshape((n_FEMnodes, data_size))\n",
        "f = open(\"output_ML.txt\", \"w\")\n",
        "\n",
        "for i in range(result.shape[0]):\n",
        "  for j in range(result.shape[1]):\n",
        "    f.write(str(result[i][j]))\n",
        "    f.write(\"  \")\n",
        "  f.write(\"\\n\")\n",
        "\n",
        "f.close()"
      ],
      "execution_count": null,
      "outputs": []
    },
    {
      "cell_type": "code",
      "metadata": {
        "id": "k1vmKU9vi0Jp"
      },
      "source": [
        ""
      ],
      "execution_count": null,
      "outputs": []
    }
  ]
}