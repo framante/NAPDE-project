{
  "nbformat": 4,
  "nbformat_minor": 0,
  "metadata": {
    "colab": {
      "name": "conv1D-2Dmixed.ipynb",
      "provenance": [],
      "collapsed_sections": [],
      "authorship_tag": "ABX9TyOrzXHOuAf29w2iOM1o1vpg",
      "include_colab_link": true
    },
    "kernelspec": {
      "name": "python3",
      "display_name": "Python 3"
    },
    "language_info": {
      "name": "python"
    }
  },
  "cells": [
    {
      "cell_type": "markdown",
      "metadata": {
        "id": "view-in-github",
        "colab_type": "text"
      },
      "source": [
        "<a href=\"https://colab.research.google.com/github/framante/NAPDE-project/blob/main/conv1D_2Dmixed.ipynb\" target=\"_parent\"><img src=\"https://colab.research.google.com/assets/colab-badge.svg\" alt=\"Open In Colab\"/></a>"
      ]
    },
    {
      "cell_type": "code",
      "metadata": {
        "id": "PhPXshQOJYbV"
      },
      "source": [
        "import numpy as np\n",
        "import tensorflow as tf\n",
        "from keras.layers.core import Reshape"
      ],
      "execution_count": null,
      "outputs": []
    },
    {
      "cell_type": "markdown",
      "metadata": {
        "id": "QpKboFVrwIlD"
      },
      "source": [
        "REMEMBER THAT IN PYTHON THE FIRST DIMENSION OF A TENSOR IS THE WIDTH, WHICH I USUALLY CONSIDER AS THE THIRD ONE, while the remaining others are the dimension of a classical matrix n rows x n cols"
      ]
    },
    {
      "cell_type": "code",
      "metadata": {
        "colab": {
          "base_uri": "https://localhost:8080/"
        },
        "id": "5eLfQGbA0Vyd",
        "outputId": "21f171fe-c00e-40ab-f7d7-d6cff1c80277"
      },
      "source": [
        "#training data\n",
        "\n",
        "# FINAL STEP: here we implement the version for all FEM nodes (hopefully)\n",
        "\n",
        "# number of FEM nodes (control nodes in Higa setting)\n",
        "n_FEMnodes = 11\n",
        "# number of parameters(mu, beta1, beta2, sigma, f)\n",
        "n_params = 5\n",
        "# number of PDEs problems considered\n",
        "n_PDEs = 200\n",
        "# number of quadrature nodes for each FEM node\n",
        "data_size = 100 #(expected_output.shape[1])\n",
        "\n",
        "#import expected output dataset\n",
        "expected_output = np.loadtxt('SolutionOutput.txt')\n",
        "print(expected_output.shape) # n FEM nodes x n PDEs x n QUAD nodes\n",
        "\n",
        "# import input dataset (think about importing n PDEs files instead SolutionInput_1.txt ... SolutionInput_nPDEs.txt)\n",
        "input = np.loadtxt('SolutionInput.txt')\n",
        "print(input.shape) # n FEM nodes x n PDEs x n params x n QUAD nodes"
      ],
      "execution_count": null,
      "outputs": [
        {
          "output_type": "stream",
          "text": [
            "(2200, 100)\n",
            "(11000, 100)\n"
          ],
          "name": "stdout"
        }
      ]
    },
    {
      "cell_type": "markdown",
      "metadata": {
        "id": "xTVtuB2vxsGr"
      },
      "source": [
        "Reshaping the expected output such that it's a tensor where each matrix is (n FEM nodes x n QUAD nodes) and the third dimension is the n PDEs"
      ]
    },
    {
      "cell_type": "code",
      "metadata": {
        "colab": {
          "base_uri": "https://localhost:8080/"
        },
        "id": "pxbsFEfrlPBE",
        "outputId": "36bc381c-59d5-447d-e176-35b1d84b1a5e"
      },
      "source": [
        "expected_output_rshpd = expected_output.reshape([n_PDEs, n_FEMnodes, data_size])\n",
        "print(expected_output_rshpd.shape) # n PDEs x n FEM nodes x n QUAD nodes"
      ],
      "execution_count": null,
      "outputs": [
        {
          "output_type": "stream",
          "text": [
            "(200, 11, 100)\n"
          ],
          "name": "stdout"
        }
      ]
    },
    {
      "cell_type": "markdown",
      "metadata": {
        "id": "_9lFuzI3xKlO"
      },
      "source": [
        "\"Rolling the dice\" so that we have a tensor where each matrix is (n PDEs x n QUAD nodes) and the third dimension is n FEM nodes"
      ]
    },
    {
      "cell_type": "code",
      "metadata": {
        "id": "YPAuGoa5xJtz"
      },
      "source": [
        "#expected_output_rshpd = np.swapaxes(expected_output_rshpd, 0, 1)\n",
        "#print(expected_output_rshpd.shape) # n FEM nodes x n PDEs x n QUAD nodes"
      ],
      "execution_count": null,
      "outputs": []
    },
    {
      "cell_type": "markdown",
      "metadata": {
        "id": "nSaNu61UoooH"
      },
      "source": [
        "Reshaping input"
      ]
    },
    {
      "cell_type": "code",
      "metadata": {
        "colab": {
          "base_uri": "https://localhost:8080/"
        },
        "id": "3_JBrHcn5KyD",
        "outputId": "1861b90f-90ac-4ec0-de2d-2cfead079c3d"
      },
      "source": [
        "input_rshpd = input.reshape([n_PDEs, n_FEMnodes, n_params, data_size])\n",
        "print(input_rshpd.shape) # n PDEs x n FEM nodes x n params x n QUAD nodes"
      ],
      "execution_count": null,
      "outputs": [
        {
          "output_type": "stream",
          "text": [
            "(200, 11, 5, 100)\n"
          ],
          "name": "stdout"
        }
      ]
    },
    {
      "cell_type": "code",
      "metadata": {
        "id": "LPuKVlgEopUx",
        "colab": {
          "base_uri": "https://localhost:8080/"
        },
        "outputId": "1c697b14-5035-444e-a694-38154db2695f"
      },
      "source": [
        "input_rshpd = np.swapaxes(input_rshpd, 2, 3)\n",
        "print(input_rshpd.shape) # n FEM nodes x n PDEs x n params x n QUAD nodes"
      ],
      "execution_count": null,
      "outputs": [
        {
          "output_type": "stream",
          "text": [
            "(200, 11, 100, 5)\n"
          ],
          "name": "stdout"
        }
      ]
    },
    {
      "cell_type": "markdown",
      "metadata": {
        "id": "mucgUIqZy7Rl"
      },
      "source": [
        "The training data should be interpreted as input and expected output\n",
        "\n",
        "\n",
        "the input is given by the terms (mu, beta1, beta2, sigma, force) of the ADR problem  computed in the grid (n FEM nodes x n QUAD nodes)\n",
        "\n",
        "the output is given by the kind-of-solution (...specify how it has been got....) evaluated in the grid (n FEM nodes x n QUAD nodes)"
      ]
    },
    {
      "cell_type": "code",
      "metadata": {
        "id": "BWRTHWc7KCyf",
        "colab": {
          "base_uri": "https://localhost:8080/"
        },
        "outputId": "f293bacc-c7f9-427f-b67e-48bc29b4b8ef"
      },
      "source": [
        "x_train = input_rshpd\n",
        "#x_train = np.expand_dims(x_train, 4) \n",
        "y_train = expected_output_rshpd\n",
        "\n",
        "print(x_train.shape)\n",
        "print(y_train.shape) "
      ],
      "execution_count": null,
      "outputs": [
        {
          "output_type": "stream",
          "text": [
            "(200, 11, 100, 5)\n",
            "(200, 11, 100)\n"
          ],
          "name": "stdout"
        }
      ]
    },
    {
      "cell_type": "markdown",
      "metadata": {
        "id": "3S2n7R0ERE6Y"
      },
      "source": [
        "training for all n_FEMnodes, the tuning of the width of the window is done within the layers conv1D"
      ]
    },
    {
      "cell_type": "code",
      "metadata": {
        "id": "WLuM0SCmxfCy",
        "colab": {
          "base_uri": "https://localhost:8080/"
        },
        "outputId": "db3fc33b-1434-467a-be66-1f52ee26f94e"
      },
      "source": [
        "input_shape = (n_FEMnodes, data_size, n_params)\n",
        "print(input_shape)\n",
        "\n",
        "model = tf.keras.Sequential()\n",
        "\n",
        "layer1 = tf.keras.Input(shape=input_shape)\n",
        "model.add(layer1)\n",
        "\n",
        "layer2 = tf.keras.layers.Dense(100, activation=\"relu\")\n",
        "model.add(layer2)\n",
        "\n",
        "layer3 = tf.keras.layers.Conv1D(20, kernel_size=50, activation=\"relu\")\n",
        "model.add(layer3)\n",
        "\n",
        "layer4 = tf.keras.layers.Dropout(0.2)\n",
        "model.add(layer4)\n",
        "\n",
        "layer8 = tf.keras.layers.Conv2D(10, kernel_size=(3, 51), padding= \"same\", activation=\"relu\")\n",
        "model.add(layer8)\n",
        "\n",
        "model.add(tf.keras.layers.Reshape((n_FEMnodes, 10*51)) )\n",
        "\n",
        "layer10 = tf.keras.layers.Dropout(0.5)\n",
        "model.add(layer10)\n",
        "\n",
        "layer11 = tf.keras.layers.Dense(data_size)\n",
        "model.add(layer11)"
      ],
      "execution_count": null,
      "outputs": [
        {
          "output_type": "stream",
          "text": [
            "(11, 100, 5)\n"
          ],
          "name": "stdout"
        }
      ]
    },
    {
      "cell_type": "code",
      "metadata": {
        "id": "JvAnA-g-8bkd",
        "colab": {
          "base_uri": "https://localhost:8080/"
        },
        "outputId": "5eabf178-7195-49dd-b80e-dcf7a3ae18ed"
      },
      "source": [
        "model.summary()"
      ],
      "execution_count": null,
      "outputs": [
        {
          "output_type": "stream",
          "text": [
            "Model: \"sequential_24\"\n",
            "_________________________________________________________________\n",
            "Layer (type)                 Output Shape              Param #   \n",
            "=================================================================\n",
            "dense_43 (Dense)             (None, 11, 100, 100)      600       \n",
            "_________________________________________________________________\n",
            "conv1d_26 (Conv1D)           (None, 11, 51, 20)        100020    \n",
            "_________________________________________________________________\n",
            "dropout_43 (Dropout)         (None, 11, 51, 20)        0         \n",
            "_________________________________________________________________\n",
            "conv2d_24 (Conv2D)           (None, 11, 51, 10)        30610     \n",
            "_________________________________________________________________\n",
            "reshape_24 (Reshape)         (None, 11, 510)           0         \n",
            "_________________________________________________________________\n",
            "dropout_44 (Dropout)         (None, 11, 510)           0         \n",
            "_________________________________________________________________\n",
            "dense_44 (Dense)             (None, 11, 100)           51100     \n",
            "=================================================================\n",
            "Total params: 182,330\n",
            "Trainable params: 182,330\n",
            "Non-trainable params: 0\n",
            "_________________________________________________________________\n"
          ],
          "name": "stdout"
        }
      ]
    },
    {
      "cell_type": "code",
      "metadata": {
        "id": "sOTJ4vNSnd99"
      },
      "source": [
        "tf.keras.utils.plot_model(model, \"model_shape_info.png\", show_shapes=True)"
      ],
      "execution_count": null,
      "outputs": []
    },
    {
      "cell_type": "code",
      "metadata": {
        "id": "HyLkl2JN3O1i"
      },
      "source": [
        "model.compile(optimizer = tf.keras.optimizers.RMSprop(learning_rate=0.2,rho=0.9), \n",
        "              loss = \"mse\"\n",
        "              #,metrics=tf.keras.metrics.MeanSquaredLogarithmicError( name='msl_err', dtype=None)\n",
        "              )"
      ],
      "execution_count": null,
      "outputs": []
    },
    {
      "cell_type": "code",
      "metadata": {
        "id": "Yo_J65jVxo3v",
        "colab": {
          "base_uri": "https://localhost:8080/"
        },
        "outputId": "dfcd1746-ae86-4255-dcd2-a8e59cfcc37e"
      },
      "source": [
        "batch_size = 20\n",
        "epochs = 10\n",
        "model.fit(x_train, y_train, batch_size=batch_size, epochs=epochs, validation_split = 0.2)"
      ],
      "execution_count": null,
      "outputs": [
        {
          "output_type": "stream",
          "text": [
            "Epoch 1/10\n",
            "8/8 [==============================] - 6s 626ms/step - loss: 831.6396 - val_loss: 0.2078\n",
            "Epoch 2/10\n",
            "8/8 [==============================] - 5s 611ms/step - loss: 0.1923 - val_loss: 0.1078\n",
            "Epoch 3/10\n",
            "8/8 [==============================] - 5s 607ms/step - loss: 0.1109 - val_loss: 0.0547\n",
            "Epoch 4/10\n",
            "8/8 [==============================] - 5s 609ms/step - loss: 0.0933 - val_loss: 0.0267\n",
            "Epoch 5/10\n",
            "8/8 [==============================] - 5s 606ms/step - loss: 0.0560 - val_loss: 0.0152\n",
            "Epoch 6/10\n",
            "8/8 [==============================] - 5s 611ms/step - loss: 0.0636 - val_loss: 0.0118\n",
            "Epoch 7/10\n",
            "8/8 [==============================] - 5s 598ms/step - loss: 0.0475 - val_loss: 0.0124\n",
            "Epoch 8/10\n",
            "8/8 [==============================] - 5s 603ms/step - loss: 0.0333 - val_loss: 0.0118\n",
            "Epoch 9/10\n",
            "8/8 [==============================] - 5s 601ms/step - loss: 0.0472 - val_loss: 0.0119\n",
            "Epoch 10/10\n",
            "8/8 [==============================] - 5s 600ms/step - loss: 0.0336 - val_loss: 0.0214\n"
          ],
          "name": "stdout"
        },
        {
          "output_type": "execute_result",
          "data": {
            "text/plain": [
              "<tensorflow.python.keras.callbacks.History at 0x7ff4f75a7b90>"
            ]
          },
          "metadata": {
            "tags": []
          },
          "execution_count": 84
        }
      ]
    },
    {
      "cell_type": "markdown",
      "metadata": {
        "id": "p-WCC6GsbUCf"
      },
      "source": [
        "Extract testing data the same way"
      ]
    },
    {
      "cell_type": "code",
      "metadata": {
        "colab": {
          "base_uri": "https://localhost:8080/"
        },
        "id": "GOxV_qbnbYot",
        "outputId": "a8648345-48ec-4c08-b64b-e35a33706209"
      },
      "source": [
        "#testing data\n",
        "\n",
        "# number of FEM nodes (control nodes in Higa setting)\n",
        "n_FEMnodes = 11\n",
        "# number of parameters(mu, beta1, beta2, sigma, f)\n",
        "n_params = 5\n",
        "# number of PDEs problems considered (CHANGED WRT TRAINING STAGE OF COURSE)\n",
        "t_PDEs = 10\n",
        "# number of quadrature nodes for each FEM node\n",
        "data_size = 100 #(expected_output.shape[1])\n",
        "\n",
        "#import expected output dataset\n",
        "t_expected_output = np.loadtxt('TestOutput.txt')\n",
        "print(t_expected_output.shape) # n FEM nodes x t PDEs x n QUAD nodes\n",
        "\n",
        "# import input dataset (think about importing n PDEs files instead SolutionInput_1.txt ... SolutionInput_nPDEs.txt)\n",
        "t_input = np.loadtxt('TestInput.txt')\n",
        "print(t_input.shape) # n FEM nodes x n PDEs x t params x n QUAD nodes"
      ],
      "execution_count": null,
      "outputs": [
        {
          "output_type": "stream",
          "text": [
            "(110, 100)\n",
            "(550, 100)\n"
          ],
          "name": "stdout"
        }
      ]
    },
    {
      "cell_type": "markdown",
      "metadata": {
        "id": "np811yIDb3_L"
      },
      "source": [
        "Reshaping testing expected output"
      ]
    },
    {
      "cell_type": "code",
      "metadata": {
        "colab": {
          "base_uri": "https://localhost:8080/"
        },
        "id": "hH4HMTq9bxim",
        "outputId": "3c8ec58c-7dc4-4e3b-d340-a03eebfc0626"
      },
      "source": [
        "t_expected_output_rshpd = t_expected_output.reshape([t_PDEs, n_FEMnodes, data_size])\n",
        "print(t_expected_output_rshpd.shape) # t PDEs x n FEM nodes x n QUAD nodes"
      ],
      "execution_count": null,
      "outputs": [
        {
          "output_type": "stream",
          "text": [
            "(10, 11, 100)\n"
          ],
          "name": "stdout"
        }
      ]
    },
    {
      "cell_type": "code",
      "metadata": {
        "id": "3F7X78BVb2_a"
      },
      "source": [
        "#t_expected_output_rshpd = np.swapaxes(t_expected_output_rshpd, 0, 1)\n",
        "#print(t_expected_output_rshpd.shape) # t FEM nodes x n PDEs x n QUAD nodes"
      ],
      "execution_count": null,
      "outputs": []
    },
    {
      "cell_type": "markdown",
      "metadata": {
        "id": "KcrFp26FcEMf"
      },
      "source": [
        "Reshaping testing input"
      ]
    },
    {
      "cell_type": "code",
      "metadata": {
        "colab": {
          "base_uri": "https://localhost:8080/"
        },
        "id": "4p0juCbFcEMf",
        "outputId": "0b34f247-f161-417f-ee61-de6f838ef44d"
      },
      "source": [
        "t_input_rshpd = t_input.reshape([t_PDEs, n_FEMnodes, n_params, data_size])\n",
        "print(t_input_rshpd.shape) # t PDEs x n FEM nodes x n params x n QUAD nodes"
      ],
      "execution_count": null,
      "outputs": [
        {
          "output_type": "stream",
          "text": [
            "(10, 11, 5, 100)\n"
          ],
          "name": "stdout"
        }
      ]
    },
    {
      "cell_type": "code",
      "metadata": {
        "id": "XyZJgLc8cEMh",
        "colab": {
          "base_uri": "https://localhost:8080/"
        },
        "outputId": "c41ab78f-bc67-42c1-ca03-2bf098fe6b2d"
      },
      "source": [
        "t_input_rshpd = np.swapaxes(t_input_rshpd, 2, 3)\n",
        "print(t_input_rshpd.shape) # t FEM nodes x n PDEs x n QUAD x nodes n params "
      ],
      "execution_count": null,
      "outputs": [
        {
          "output_type": "stream",
          "text": [
            "(10, 11, 100, 5)\n"
          ],
          "name": "stdout"
        }
      ]
    },
    {
      "cell_type": "markdown",
      "metadata": {
        "id": "sa-sczw5cxx0"
      },
      "source": [
        "Evaluate the model through the testing dataset"
      ]
    },
    {
      "cell_type": "code",
      "metadata": {
        "colab": {
          "base_uri": "https://localhost:8080/"
        },
        "id": "wvqbr3jCdGvF",
        "outputId": "794faac6-c374-4b17-8d29-554b97e02fca"
      },
      "source": [
        "x_test = t_input_rshpd\n",
        "#x_test = np.expand_dims(x_test, 4) \n",
        "y_test = t_expected_output_rshpd\n",
        "\n",
        "print(x_test.shape)\n",
        "print(y_test.shape) "
      ],
      "execution_count": null,
      "outputs": [
        {
          "output_type": "stream",
          "text": [
            "(10, 11, 100, 5)\n",
            "(10, 11, 100)\n"
          ],
          "name": "stdout"
        }
      ]
    },
    {
      "cell_type": "code",
      "metadata": {
        "id": "BAZNJQwkgfSj",
        "colab": {
          "base_uri": "https://localhost:8080/"
        },
        "outputId": "952f9187-72bf-4b72-ccce-4523a3d36bf7"
      },
      "source": [
        "test_loss = model.evaluate(x_test, y_test)\n",
        "print('Test loss:', test_loss)"
      ],
      "execution_count": null,
      "outputs": [
        {
          "output_type": "stream",
          "text": [
            "1/1 [==============================] - 0s 197ms/step - loss: 0.0637\n",
            "Test loss: 0.06373637169599533\n"
          ],
          "name": "stdout"
        }
      ]
    },
    {
      "cell_type": "markdown",
      "metadata": {
        "id": "95TEWCTvRocE"
      },
      "source": [
        "Predict the output for the desidered input"
      ]
    },
    {
      "cell_type": "code",
      "metadata": {
        "colab": {
          "base_uri": "https://localhost:8080/"
        },
        "id": "yajl0zGxRs4I",
        "outputId": "e54dfe87-937a-47f2-8fe2-1e59a1f0fced"
      },
      "source": [
        "result = model.predict(x_test, batch_size=50)\n",
        "print(result.shape)"
      ],
      "execution_count": null,
      "outputs": [
        {
          "output_type": "stream",
          "text": [
            "(10, 11, 100)\n"
          ],
          "name": "stdout"
        }
      ]
    }
  ]
}