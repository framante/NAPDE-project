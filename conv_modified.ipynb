{
  "nbformat": 4,
  "nbformat_minor": 0,
  "metadata": {
    "colab": {
      "name": "conv_modified.ipynb",
      "provenance": [],
      "collapsed_sections": [],
      "authorship_tag": "ABX9TyNWpcNDaQifmnaNuCa7DzYj",
      "include_colab_link": true
    },
    "kernelspec": {
      "name": "python3",
      "display_name": "Python 3"
    }
  },
  "cells": [
    {
      "cell_type": "markdown",
      "metadata": {
        "id": "view-in-github",
        "colab_type": "text"
      },
      "source": [
        "<a href=\"https://colab.research.google.com/github/framante/NAPDE-project-NN/blob/main/conv_modified.ipynb\" target=\"_parent\"><img src=\"https://colab.research.google.com/assets/colab-badge.svg\" alt=\"Open In Colab\"/></a>"
      ]
    },
    {
      "cell_type": "code",
      "metadata": {
        "id": "PhPXshQOJYbV"
      },
      "source": [
        "import numpy as np\n",
        "import tensorflow as tf\n",
        "from keras.layers.core import Reshape"
      ],
      "execution_count": null,
      "outputs": []
    },
    {
      "cell_type": "markdown",
      "metadata": {
        "id": "QpKboFVrwIlD"
      },
      "source": [
        "REMEMBER THAT IN PYTHON THE FIRST DIMENSION OF A TENSOR IS THE WIDTH, WHICH I USUALLY CONSIDER AS THE THIRD ONE, while the remaining others are the dimension of a classical matrix n rows x n cols"
      ]
    },
    {
      "cell_type": "code",
      "metadata": {
        "colab": {
          "base_uri": "https://localhost:8080/"
        },
        "id": "5eLfQGbA0Vyd",
        "outputId": "994d3da5-9a84-476b-da88-4e4643156d19"
      },
      "source": [
        "#training data\n",
        "\n",
        "# FINAL STEP: here we implement the version for all FEM nodes (hopefully)\n",
        "\n",
        "# number of FEM nodes (control nodes in Higa setting)\n",
        "n_FEMnodes = 11\n",
        "# number of parameters(mu, beta1, beta2, sigma, f)\n",
        "n_params = 5\n",
        "# number of PDEs problems considered\n",
        "n_PDEs = 2000\n",
        "# number of quadrature nodes for each FEM node\n",
        "data_size = 100 #(expected_output.shape[1])\n",
        "\n",
        "#import expected output dataset\n",
        "expected_output = np.loadtxt('SolutionOutput.txt')\n",
        "print(expected_output.shape) # n FEM nodes x n PDEs x n QUAD nodes\n",
        "\n",
        "# import input dataset (think about importing n PDEs files instead SolutionInput_1.txt ... SolutionInput_nPDEs.txt)\n",
        "input = np.loadtxt('SolutionInput.txt')\n",
        "print(input.shape) # n FEM nodes x n PDEs x n params x n QUAD nodes"
      ],
      "execution_count": null,
      "outputs": [
        {
          "output_type": "stream",
          "text": [
            "(22000, 100)\n",
            "(110000, 100)\n"
          ],
          "name": "stdout"
        }
      ]
    },
    {
      "cell_type": "markdown",
      "metadata": {
        "id": "xTVtuB2vxsGr"
      },
      "source": [
        "Reshaping the expected output such that it's a tensor where each matrix is (n FEM nodes x n QUAD nodes) and the third dimension is the n PDEs"
      ]
    },
    {
      "cell_type": "code",
      "metadata": {
        "colab": {
          "base_uri": "https://localhost:8080/"
        },
        "id": "pxbsFEfrlPBE",
        "outputId": "f14c4293-bee2-4cb8-9d1c-d80b2e143e5f"
      },
      "source": [
        "expected_output_rshpd = expected_output.reshape([n_PDEs, n_FEMnodes, data_size])\n",
        "print(expected_output_rshpd.shape) # n PDEs x n FEM nodes x n QUAD nodes"
      ],
      "execution_count": null,
      "outputs": [
        {
          "output_type": "stream",
          "text": [
            "(2000, 11, 100)\n"
          ],
          "name": "stdout"
        }
      ]
    },
    {
      "cell_type": "markdown",
      "metadata": {
        "id": "_9lFuzI3xKlO"
      },
      "source": [
        "\"Rolling the dice\" so that we have a tensor where each matrix is (n PDEs x n QUAD nodes) and the third dimension is n FEM nodes"
      ]
    },
    {
      "cell_type": "code",
      "metadata": {
        "id": "YPAuGoa5xJtz"
      },
      "source": [
        "#expected_output_rshpd = np.swapaxes(expected_output_rshpd, 0, 1)\n",
        "#print(expected_output_rshpd.shape) # n FEM nodes x n PDEs x n QUAD nodes"
      ],
      "execution_count": null,
      "outputs": []
    },
    {
      "cell_type": "markdown",
      "metadata": {
        "id": "nSaNu61UoooH"
      },
      "source": [
        "Reshaping input"
      ]
    },
    {
      "cell_type": "code",
      "metadata": {
        "colab": {
          "base_uri": "https://localhost:8080/"
        },
        "id": "3_JBrHcn5KyD",
        "outputId": "70672ec3-74f6-4202-dc29-c79780ac8d03"
      },
      "source": [
        "input_rshpd = input.reshape([n_PDEs, n_FEMnodes, n_params, data_size])\n",
        "print(input_rshpd.shape) # n PDEs x n FEM nodes x n params x n QUAD nodes"
      ],
      "execution_count": null,
      "outputs": [
        {
          "output_type": "stream",
          "text": [
            "(2000, 11, 5, 100)\n"
          ],
          "name": "stdout"
        }
      ]
    },
    {
      "cell_type": "code",
      "metadata": {
        "id": "LPuKVlgEopUx",
        "colab": {
          "base_uri": "https://localhost:8080/"
        },
        "outputId": "c0a48365-9555-4ec8-f62b-e909ab99de94"
      },
      "source": [
        "input_rshpd = np.swapaxes(input_rshpd, 2, 3)\n",
        "print(input_rshpd.shape) # n FEM nodes x n PDEs x n params x n QUAD nodes"
      ],
      "execution_count": null,
      "outputs": [
        {
          "output_type": "stream",
          "text": [
            "(2000, 11, 100, 5)\n"
          ],
          "name": "stdout"
        }
      ]
    },
    {
      "cell_type": "markdown",
      "metadata": {
        "id": "mucgUIqZy7Rl"
      },
      "source": [
        "The training data should be interpreted as input and expected output\n",
        "\n",
        "\n",
        "the input is given by the terms (mu, beta1, beta2, sigma, force) of the ADR problem  computed in the grid (n FEM nodes x n QUAD nodes)\n",
        "\n",
        "the output is given by the kind-of-solution (...specify how it has been got....) evaluated in the grid (n FEM nodes x n QUAD nodes)"
      ]
    },
    {
      "cell_type": "code",
      "metadata": {
        "id": "BWRTHWc7KCyf",
        "colab": {
          "base_uri": "https://localhost:8080/"
        },
        "outputId": "9d540b22-1889-47e6-be31-7232cc6ddd91"
      },
      "source": [
        "x_train = input_rshpd\n",
        "#x_train = np.expand_dims(x_train, 4) \n",
        "y_train = expected_output_rshpd\n",
        "\n",
        "print(x_train.shape)\n",
        "print(y_train.shape) "
      ],
      "execution_count": null,
      "outputs": [
        {
          "output_type": "stream",
          "text": [
            "(2000, 11, 100, 5)\n",
            "(2000, 11, 100)\n"
          ],
          "name": "stdout"
        }
      ]
    },
    {
      "cell_type": "markdown",
      "metadata": {
        "id": "3S2n7R0ERE6Y"
      },
      "source": [
        "training for all n_FEMnodes, the tuning of the width of the window is done within the layers conv1D"
      ]
    },
    {
      "cell_type": "code",
      "metadata": {
        "id": "WLuM0SCmxfCy",
        "colab": {
          "base_uri": "https://localhost:8080/"
        },
        "outputId": "7f8cdb17-edc2-49e6-9d9a-a32a7236a5e8"
      },
      "source": [
        "input_shape = (n_FEMnodes, data_size, n_params)\n",
        "model = tf.keras.Sequential()\n",
        "layer1 = tf.keras.Input(shape=input_shape)\n",
        "model.add(layer1)\n",
        "layer2 = tf.keras.layers.Flatten()\n",
        "model.add(layer2)\n",
        "layer3 = tf.keras.layers.Dense(1000, activation=\"relu\")\n",
        "model.add(layer3)\n",
        "layer4 = tf.keras.layers.Dense(1000, activation=\"relu\")\n",
        "model.add(layer4)\n",
        "layer5 = tf.keras.layers.Dense(1000, activation=\"relu\")\n",
        "model.add(layer5)\n",
        "layer6 = tf.keras.layers.Dense(1100)\n",
        "model.add(layer6)\n",
        "layer7 = tf.keras.layers.Reshape((11, 100))\n",
        "model.add(layer7)\n",
        "model.output_shape"
      ],
      "execution_count": null,
      "outputs": [
        {
          "output_type": "stream",
          "text": [
            "WARNING:tensorflow:Please add `keras.layers.InputLayer` instead of `keras.Input` to Sequential model. `keras.Input` is intended to be used by Functional model.\n"
          ],
          "name": "stdout"
        },
        {
          "output_type": "execute_result",
          "data": {
            "text/plain": [
              "(None, 11, 100)"
            ]
          },
          "metadata": {
            "tags": []
          },
          "execution_count": 11
        }
      ]
    },
    {
      "cell_type": "code",
      "metadata": {
        "id": "JvAnA-g-8bkd",
        "colab": {
          "base_uri": "https://localhost:8080/"
        },
        "outputId": "9e533074-d671-4dae-8bcf-40af16a2cb8c"
      },
      "source": [
        "model.summary()"
      ],
      "execution_count": null,
      "outputs": [
        {
          "output_type": "stream",
          "text": [
            "Model: \"sequential_4\"\n",
            "_________________________________________________________________\n",
            "Layer (type)                 Output Shape              Param #   \n",
            "=================================================================\n",
            "flatten_2 (Flatten)          (None, 5500)              0         \n",
            "_________________________________________________________________\n",
            "dense_8 (Dense)              (None, 1000)              5501000   \n",
            "_________________________________________________________________\n",
            "dense_9 (Dense)              (None, 1000)              1001000   \n",
            "_________________________________________________________________\n",
            "dense_10 (Dense)             (None, 1000)              1001000   \n",
            "_________________________________________________________________\n",
            "dense_11 (Dense)             (None, 1100)              1101100   \n",
            "_________________________________________________________________\n",
            "reshape_2 (Reshape)          (None, 11, 100)           0         \n",
            "=================================================================\n",
            "Total params: 8,604,100\n",
            "Trainable params: 8,604,100\n",
            "Non-trainable params: 0\n",
            "_________________________________________________________________\n"
          ],
          "name": "stdout"
        }
      ]
    },
    {
      "cell_type": "code",
      "metadata": {
        "id": "sOTJ4vNSnd99"
      },
      "source": [
        "tf.keras.utils.plot_model(model, \"model_shape_info.png\", show_shapes=True)"
      ],
      "execution_count": null,
      "outputs": []
    },
    {
      "cell_type": "code",
      "metadata": {
        "id": "HyLkl2JN3O1i"
      },
      "source": [
        "model.compile(optimizer = tf.keras.optimizers.Adam(learning_rate=1e-4), \n",
        "              loss = \"mse\"\n",
        "              #,metrics=tf.keras.metrics.MeanSquaredLogarithmicError( name='msl_err', dtype=None)\n",
        "              )"
      ],
      "execution_count": null,
      "outputs": []
    },
    {
      "cell_type": "code",
      "metadata": {
        "id": "Yo_J65jVxo3v",
        "colab": {
          "base_uri": "https://localhost:8080/"
        },
        "outputId": "cfafd1e9-800f-4e26-a5e9-6ea89852740d"
      },
      "source": [
        "batch_size = 20\n",
        "epochs = 200\n",
        "model.fit(x_train, y_train, batch_size=batch_size, epochs=epochs, validation_split = 0.2)"
      ],
      "execution_count": null,
      "outputs": [
        {
          "output_type": "stream",
          "text": [
            "Epoch 1/200\n",
            "80/80 [==============================] - 6s 69ms/step - loss: 0.0755 - val_loss: 0.0029\n",
            "Epoch 2/200\n",
            "80/80 [==============================] - 5s 69ms/step - loss: 0.0014 - val_loss: 0.0010\n",
            "Epoch 3/200\n",
            "80/80 [==============================] - 5s 66ms/step - loss: 7.9833e-04 - val_loss: 7.2295e-04\n",
            "Epoch 4/200\n",
            "80/80 [==============================] - 5s 69ms/step - loss: 7.1307e-04 - val_loss: 7.5117e-04\n",
            "Epoch 5/200\n",
            "80/80 [==============================] - 6s 69ms/step - loss: 6.9545e-04 - val_loss: 5.5778e-04\n",
            "Epoch 6/200\n",
            "80/80 [==============================] - 6s 73ms/step - loss: 6.2216e-04 - val_loss: 7.6029e-04\n",
            "Epoch 7/200\n",
            "80/80 [==============================] - 6s 75ms/step - loss: 6.4628e-04 - val_loss: 6.4888e-04\n",
            "Epoch 8/200\n",
            "80/80 [==============================] - 6s 76ms/step - loss: 6.1013e-04 - val_loss: 7.0302e-04\n",
            "Epoch 9/200\n",
            "80/80 [==============================] - 6s 73ms/step - loss: 5.7075e-04 - val_loss: 5.6058e-04\n",
            "Epoch 10/200\n",
            "80/80 [==============================] - 6s 74ms/step - loss: 5.2102e-04 - val_loss: 4.6341e-04\n",
            "Epoch 11/200\n",
            "80/80 [==============================] - 6s 73ms/step - loss: 5.1667e-04 - val_loss: 5.8975e-04\n",
            "Epoch 12/200\n",
            "80/80 [==============================] - 6s 76ms/step - loss: 4.8296e-04 - val_loss: 4.9221e-04\n",
            "Epoch 13/200\n",
            "80/80 [==============================] - 6s 75ms/step - loss: 4.8004e-04 - val_loss: 5.8922e-04\n",
            "Epoch 14/200\n",
            "80/80 [==============================] - 6s 74ms/step - loss: 5.1291e-04 - val_loss: 0.0011\n",
            "Epoch 15/200\n",
            "80/80 [==============================] - 6s 74ms/step - loss: 6.5593e-04 - val_loss: 3.8428e-04\n",
            "Epoch 16/200\n",
            "80/80 [==============================] - 6s 74ms/step - loss: 3.6988e-04 - val_loss: 3.3712e-04\n",
            "Epoch 17/200\n",
            "80/80 [==============================] - 6s 75ms/step - loss: 4.0946e-04 - val_loss: 3.3670e-04\n",
            "Epoch 18/200\n",
            "80/80 [==============================] - 6s 76ms/step - loss: 3.7214e-04 - val_loss: 3.4269e-04\n",
            "Epoch 19/200\n",
            "80/80 [==============================] - 6s 75ms/step - loss: 3.5822e-04 - val_loss: 3.0560e-04\n",
            "Epoch 20/200\n",
            "80/80 [==============================] - 6s 75ms/step - loss: 3.0301e-04 - val_loss: 2.7532e-04\n",
            "Epoch 21/200\n",
            "80/80 [==============================] - 6s 74ms/step - loss: 2.8954e-04 - val_loss: 3.3932e-04\n",
            "Epoch 22/200\n",
            "80/80 [==============================] - 6s 78ms/step - loss: 3.6750e-04 - val_loss: 2.6003e-04\n",
            "Epoch 23/200\n",
            "80/80 [==============================] - 6s 74ms/step - loss: 2.8691e-04 - val_loss: 2.9063e-04\n",
            "Epoch 24/200\n",
            "80/80 [==============================] - 6s 75ms/step - loss: 3.5549e-04 - val_loss: 3.8123e-04\n",
            "Epoch 25/200\n",
            "80/80 [==============================] - 6s 75ms/step - loss: 2.8051e-04 - val_loss: 2.7130e-04\n",
            "Epoch 26/200\n",
            "80/80 [==============================] - 6s 75ms/step - loss: 2.7952e-04 - val_loss: 3.1883e-04\n",
            "Epoch 27/200\n",
            "80/80 [==============================] - 6s 75ms/step - loss: 2.4027e-04 - val_loss: 5.6385e-04\n",
            "Epoch 28/200\n",
            "80/80 [==============================] - 6s 74ms/step - loss: 2.6337e-04 - val_loss: 3.9143e-04\n",
            "Epoch 29/200\n",
            "80/80 [==============================] - 6s 76ms/step - loss: 2.4150e-04 - val_loss: 1.7380e-04\n",
            "Epoch 30/200\n",
            "80/80 [==============================] - 6s 72ms/step - loss: 2.6304e-04 - val_loss: 2.3630e-04\n",
            "Epoch 31/200\n",
            "80/80 [==============================] - 6s 70ms/step - loss: 2.3060e-04 - val_loss: 3.1069e-04\n",
            "Epoch 32/200\n",
            "80/80 [==============================] - 6s 73ms/step - loss: 2.9422e-04 - val_loss: 2.1516e-04\n",
            "Epoch 33/200\n",
            "80/80 [==============================] - 6s 71ms/step - loss: 2.2767e-04 - val_loss: 1.7557e-04\n",
            "Epoch 34/200\n",
            "80/80 [==============================] - 6s 70ms/step - loss: 1.6505e-04 - val_loss: 1.6286e-04\n",
            "Epoch 35/200\n",
            "80/80 [==============================] - 6s 73ms/step - loss: 1.7978e-04 - val_loss: 1.8607e-04\n",
            "Epoch 36/200\n",
            "80/80 [==============================] - 6s 75ms/step - loss: 1.7638e-04 - val_loss: 2.5179e-04\n",
            "Epoch 37/200\n",
            "80/80 [==============================] - 6s 77ms/step - loss: 1.8768e-04 - val_loss: 1.2994e-04\n",
            "Epoch 38/200\n",
            "80/80 [==============================] - 6s 73ms/step - loss: 1.5203e-04 - val_loss: 1.2857e-04\n",
            "Epoch 39/200\n",
            "80/80 [==============================] - 6s 76ms/step - loss: 2.9662e-04 - val_loss: 2.9127e-04\n",
            "Epoch 40/200\n",
            "80/80 [==============================] - 6s 78ms/step - loss: 2.1416e-04 - val_loss: 1.4827e-04\n",
            "Epoch 41/200\n",
            "80/80 [==============================] - 6s 78ms/step - loss: 1.5726e-04 - val_loss: 1.5269e-04\n",
            "Epoch 42/200\n",
            "80/80 [==============================] - 6s 74ms/step - loss: 1.4097e-04 - val_loss: 2.2914e-04\n",
            "Epoch 43/200\n",
            "80/80 [==============================] - 6s 74ms/step - loss: 1.6146e-04 - val_loss: 1.0940e-04\n",
            "Epoch 44/200\n",
            "80/80 [==============================] - 6s 76ms/step - loss: 1.1673e-04 - val_loss: 1.1289e-04\n",
            "Epoch 45/200\n",
            "80/80 [==============================] - 6s 77ms/step - loss: 2.0380e-04 - val_loss: 3.4558e-04\n",
            "Epoch 46/200\n",
            "80/80 [==============================] - 6s 75ms/step - loss: 1.6949e-04 - val_loss: 1.2506e-04\n",
            "Epoch 47/200\n",
            "80/80 [==============================] - 6s 74ms/step - loss: 1.1955e-04 - val_loss: 1.2905e-04\n",
            "Epoch 48/200\n",
            "80/80 [==============================] - 6s 77ms/step - loss: 1.2351e-04 - val_loss: 2.0980e-04\n",
            "Epoch 49/200\n",
            "80/80 [==============================] - 6s 77ms/step - loss: 1.4832e-04 - val_loss: 1.6042e-04\n",
            "Epoch 50/200\n",
            "80/80 [==============================] - 6s 76ms/step - loss: 1.4378e-04 - val_loss: 1.3185e-04\n",
            "Epoch 51/200\n",
            "80/80 [==============================] - 6s 74ms/step - loss: 1.3444e-04 - val_loss: 1.0476e-04\n",
            "Epoch 52/200\n",
            "80/80 [==============================] - 6s 77ms/step - loss: 1.8978e-04 - val_loss: 1.4717e-04\n",
            "Epoch 53/200\n",
            "80/80 [==============================] - 6s 79ms/step - loss: 9.6334e-05 - val_loss: 7.4309e-05\n",
            "Epoch 54/200\n",
            "80/80 [==============================] - 6s 77ms/step - loss: 9.3571e-05 - val_loss: 6.6712e-05\n",
            "Epoch 55/200\n",
            "80/80 [==============================] - 6s 75ms/step - loss: 1.0524e-04 - val_loss: 7.4912e-05\n",
            "Epoch 56/200\n",
            "80/80 [==============================] - 6s 74ms/step - loss: 8.5863e-05 - val_loss: 6.9834e-05\n",
            "Epoch 57/200\n",
            "80/80 [==============================] - 6s 75ms/step - loss: 7.5195e-05 - val_loss: 3.5795e-04\n",
            "Epoch 58/200\n",
            "80/80 [==============================] - 6s 77ms/step - loss: 1.3249e-04 - val_loss: 1.3744e-04\n",
            "Epoch 59/200\n",
            "80/80 [==============================] - 6s 77ms/step - loss: 9.5109e-05 - val_loss: 8.3713e-05\n",
            "Epoch 60/200\n",
            "80/80 [==============================] - 6s 78ms/step - loss: 1.1433e-04 - val_loss: 6.7354e-05\n",
            "Epoch 61/200\n",
            "80/80 [==============================] - 6s 75ms/step - loss: 1.6837e-04 - val_loss: 3.1490e-04\n",
            "Epoch 62/200\n",
            "80/80 [==============================] - 6s 75ms/step - loss: 1.0244e-04 - val_loss: 1.0145e-04\n",
            "Epoch 63/200\n",
            "80/80 [==============================] - 6s 78ms/step - loss: 1.0039e-04 - val_loss: 5.8701e-05\n",
            "Epoch 64/200\n",
            "80/80 [==============================] - 6s 80ms/step - loss: 9.4497e-05 - val_loss: 7.5917e-05\n",
            "Epoch 65/200\n",
            "80/80 [==============================] - 6s 75ms/step - loss: 1.3002e-04 - val_loss: 1.1539e-04\n",
            "Epoch 66/200\n",
            "80/80 [==============================] - 6s 74ms/step - loss: 1.2628e-04 - val_loss: 1.1796e-04\n",
            "Epoch 67/200\n",
            "80/80 [==============================] - 6s 72ms/step - loss: 1.3305e-04 - val_loss: 1.2002e-04\n",
            "Epoch 68/200\n",
            "80/80 [==============================] - 6s 73ms/step - loss: 8.8370e-05 - val_loss: 8.0906e-05\n",
            "Epoch 69/200\n",
            "80/80 [==============================] - 6s 72ms/step - loss: 7.9669e-05 - val_loss: 6.9330e-05\n",
            "Epoch 70/200\n",
            "80/80 [==============================] - 6s 73ms/step - loss: 1.0700e-04 - val_loss: 7.2082e-05\n",
            "Epoch 71/200\n",
            "80/80 [==============================] - 6s 72ms/step - loss: 1.1751e-04 - val_loss: 6.9511e-05\n",
            "Epoch 72/200\n",
            "80/80 [==============================] - 6s 74ms/step - loss: 1.1856e-04 - val_loss: 5.9201e-05\n",
            "Epoch 73/200\n",
            "80/80 [==============================] - 6s 75ms/step - loss: 8.1828e-05 - val_loss: 1.2556e-04\n",
            "Epoch 74/200\n",
            "80/80 [==============================] - 6s 76ms/step - loss: 7.7167e-05 - val_loss: 5.8010e-05\n",
            "Epoch 75/200\n",
            "80/80 [==============================] - 6s 74ms/step - loss: 8.3028e-05 - val_loss: 7.6484e-05\n",
            "Epoch 76/200\n",
            "80/80 [==============================] - 6s 75ms/step - loss: 8.6084e-05 - val_loss: 4.7866e-04\n",
            "Epoch 77/200\n",
            "80/80 [==============================] - 6s 75ms/step - loss: 1.0727e-04 - val_loss: 4.8336e-05\n",
            "Epoch 78/200\n",
            "80/80 [==============================] - 6s 75ms/step - loss: 7.4180e-05 - val_loss: 7.0087e-05\n",
            "Epoch 79/200\n",
            "80/80 [==============================] - 6s 76ms/step - loss: 4.7989e-05 - val_loss: 5.2913e-05\n",
            "Epoch 80/200\n",
            "80/80 [==============================] - 6s 75ms/step - loss: 5.4949e-05 - val_loss: 3.0397e-05\n",
            "Epoch 81/200\n",
            "80/80 [==============================] - 6s 75ms/step - loss: 4.3507e-05 - val_loss: 3.4832e-05\n",
            "Epoch 82/200\n",
            "80/80 [==============================] - 6s 75ms/step - loss: 3.5935e-05 - val_loss: 7.5822e-05\n",
            "Epoch 83/200\n",
            "80/80 [==============================] - 6s 76ms/step - loss: 4.4314e-05 - val_loss: 1.2658e-04\n",
            "Epoch 84/200\n",
            "80/80 [==============================] - 6s 76ms/step - loss: 4.2621e-05 - val_loss: 3.3548e-05\n",
            "Epoch 85/200\n",
            "80/80 [==============================] - 6s 74ms/step - loss: 6.2500e-05 - val_loss: 9.7984e-05\n",
            "Epoch 86/200\n",
            "80/80 [==============================] - 6s 72ms/step - loss: 7.9598e-05 - val_loss: 7.5134e-05\n",
            "Epoch 87/200\n",
            "80/80 [==============================] - 6s 75ms/step - loss: 8.8949e-05 - val_loss: 1.7484e-04\n",
            "Epoch 88/200\n",
            "80/80 [==============================] - 6s 75ms/step - loss: 8.3954e-05 - val_loss: 4.0853e-05\n",
            "Epoch 89/200\n",
            "80/80 [==============================] - 6s 74ms/step - loss: 7.2510e-05 - val_loss: 2.3053e-04\n",
            "Epoch 90/200\n",
            "80/80 [==============================] - 6s 74ms/step - loss: 1.3119e-04 - val_loss: 7.0571e-05\n",
            "Epoch 91/200\n",
            "80/80 [==============================] - 6s 74ms/step - loss: 1.0276e-04 - val_loss: 4.0073e-05\n",
            "Epoch 92/200\n",
            "80/80 [==============================] - 6s 75ms/step - loss: 4.1685e-05 - val_loss: 4.6629e-05\n",
            "Epoch 93/200\n",
            "80/80 [==============================] - 6s 72ms/step - loss: 5.1569e-05 - val_loss: 9.7982e-05\n",
            "Epoch 94/200\n",
            "80/80 [==============================] - 5s 67ms/step - loss: 5.7995e-05 - val_loss: 3.1668e-05\n",
            "Epoch 95/200\n",
            "80/80 [==============================] - 5s 68ms/step - loss: 2.8220e-05 - val_loss: 2.9992e-05\n",
            "Epoch 96/200\n",
            "80/80 [==============================] - 5s 69ms/step - loss: 3.1806e-05 - val_loss: 1.5033e-04\n",
            "Epoch 97/200\n",
            "80/80 [==============================] - 5s 69ms/step - loss: 6.1882e-05 - val_loss: 3.5018e-05\n",
            "Epoch 98/200\n",
            "80/80 [==============================] - 5s 68ms/step - loss: 4.1633e-05 - val_loss: 3.9402e-05\n",
            "Epoch 99/200\n",
            "80/80 [==============================] - 5s 66ms/step - loss: 2.7422e-05 - val_loss: 3.8637e-05\n",
            "Epoch 100/200\n",
            "80/80 [==============================] - 5s 65ms/step - loss: 6.5288e-05 - val_loss: 2.8421e-05\n",
            "Epoch 101/200\n",
            "80/80 [==============================] - 5s 67ms/step - loss: 2.7866e-05 - val_loss: 2.6900e-05\n",
            "Epoch 102/200\n",
            "80/80 [==============================] - 5s 65ms/step - loss: 3.2932e-05 - val_loss: 5.2862e-05\n",
            "Epoch 103/200\n",
            "80/80 [==============================] - 5s 65ms/step - loss: 2.8860e-05 - val_loss: 2.1621e-05\n",
            "Epoch 104/200\n",
            "80/80 [==============================] - 6s 70ms/step - loss: 1.8606e-05 - val_loss: 2.9383e-05\n",
            "Epoch 105/200\n",
            "80/80 [==============================] - 5s 68ms/step - loss: 3.3273e-05 - val_loss: 2.7574e-05\n",
            "Epoch 106/200\n",
            "80/80 [==============================] - 6s 70ms/step - loss: 2.5286e-05 - val_loss: 2.9197e-05\n",
            "Epoch 107/200\n",
            "80/80 [==============================] - 5s 65ms/step - loss: 3.3622e-05 - val_loss: 3.9655e-05\n",
            "Epoch 108/200\n",
            "80/80 [==============================] - 5s 68ms/step - loss: 2.9844e-05 - val_loss: 2.7373e-05\n",
            "Epoch 109/200\n",
            "80/80 [==============================] - 6s 70ms/step - loss: 2.4750e-05 - val_loss: 1.2043e-04\n",
            "Epoch 110/200\n",
            "80/80 [==============================] - 5s 68ms/step - loss: 3.7091e-05 - val_loss: 2.4144e-05\n",
            "Epoch 111/200\n",
            "80/80 [==============================] - 5s 67ms/step - loss: 2.2474e-05 - val_loss: 1.8056e-05\n",
            "Epoch 112/200\n",
            "80/80 [==============================] - 6s 70ms/step - loss: 2.5746e-05 - val_loss: 4.9367e-05\n",
            "Epoch 113/200\n",
            "80/80 [==============================] - 5s 65ms/step - loss: 4.6511e-05 - val_loss: 5.5379e-05\n",
            "Epoch 114/200\n",
            "80/80 [==============================] - 5s 64ms/step - loss: 6.4903e-05 - val_loss: 2.7282e-05\n",
            "Epoch 115/200\n",
            "80/80 [==============================] - 5s 65ms/step - loss: 7.4525e-05 - val_loss: 2.7320e-05\n",
            "Epoch 116/200\n",
            "80/80 [==============================] - 5s 64ms/step - loss: 3.7762e-05 - val_loss: 2.0387e-05\n",
            "Epoch 117/200\n",
            "80/80 [==============================] - 5s 64ms/step - loss: 1.1721e-04 - val_loss: 7.7721e-05\n",
            "Epoch 118/200\n",
            "80/80 [==============================] - 5s 64ms/step - loss: 4.9016e-05 - val_loss: 6.0780e-05\n",
            "Epoch 119/200\n",
            "80/80 [==============================] - 5s 64ms/step - loss: 3.2997e-05 - val_loss: 2.0840e-05\n",
            "Epoch 120/200\n",
            "80/80 [==============================] - 5s 64ms/step - loss: 3.2464e-05 - val_loss: 2.5138e-05\n",
            "Epoch 121/200\n",
            "80/80 [==============================] - 5s 64ms/step - loss: 4.3234e-05 - val_loss: 2.2848e-05\n",
            "Epoch 122/200\n",
            "80/80 [==============================] - 5s 64ms/step - loss: 6.2772e-05 - val_loss: 1.1938e-04\n",
            "Epoch 123/200\n",
            "80/80 [==============================] - 5s 64ms/step - loss: 1.0418e-04 - val_loss: 6.6071e-05\n",
            "Epoch 124/200\n",
            "80/80 [==============================] - 5s 64ms/step - loss: 7.4530e-05 - val_loss: 9.8409e-05\n",
            "Epoch 125/200\n",
            "80/80 [==============================] - 5s 64ms/step - loss: 3.9091e-05 - val_loss: 4.7713e-05\n",
            "Epoch 126/200\n",
            "80/80 [==============================] - 5s 64ms/step - loss: 3.8514e-05 - val_loss: 2.5166e-05\n",
            "Epoch 127/200\n",
            "80/80 [==============================] - 5s 64ms/step - loss: 2.4972e-05 - val_loss: 2.1715e-05\n",
            "Epoch 128/200\n",
            "80/80 [==============================] - 5s 64ms/step - loss: 1.6904e-05 - val_loss: 1.7716e-05\n",
            "Epoch 129/200\n",
            "80/80 [==============================] - 5s 65ms/step - loss: 2.4320e-05 - val_loss: 3.5547e-05\n",
            "Epoch 130/200\n",
            "80/80 [==============================] - 5s 64ms/step - loss: 1.3780e-05 - val_loss: 1.3845e-05\n",
            "Epoch 131/200\n",
            "80/80 [==============================] - 5s 65ms/step - loss: 1.6885e-05 - val_loss: 2.7129e-05\n",
            "Epoch 132/200\n",
            "80/80 [==============================] - 5s 65ms/step - loss: 2.9692e-05 - val_loss: 4.4901e-05\n",
            "Epoch 133/200\n",
            "80/80 [==============================] - 5s 65ms/step - loss: 2.9503e-05 - val_loss: 4.6860e-05\n",
            "Epoch 134/200\n",
            "80/80 [==============================] - 5s 65ms/step - loss: 4.5311e-05 - val_loss: 2.4717e-05\n",
            "Epoch 135/200\n",
            "80/80 [==============================] - 5s 65ms/step - loss: 3.1330e-05 - val_loss: 1.6690e-05\n",
            "Epoch 136/200\n",
            "80/80 [==============================] - 5s 64ms/step - loss: 1.9615e-05 - val_loss: 1.5461e-05\n",
            "Epoch 137/200\n",
            "80/80 [==============================] - 5s 64ms/step - loss: 1.5355e-05 - val_loss: 9.5199e-06\n",
            "Epoch 138/200\n",
            "80/80 [==============================] - 5s 65ms/step - loss: 1.3242e-05 - val_loss: 9.3686e-06\n",
            "Epoch 139/200\n",
            "80/80 [==============================] - 5s 65ms/step - loss: 1.6307e-05 - val_loss: 1.5086e-05\n",
            "Epoch 140/200\n",
            "80/80 [==============================] - 5s 64ms/step - loss: 2.6005e-05 - val_loss: 1.4751e-05\n",
            "Epoch 141/200\n",
            "80/80 [==============================] - 5s 65ms/step - loss: 1.9199e-05 - val_loss: 7.6370e-05\n",
            "Epoch 142/200\n",
            "80/80 [==============================] - 5s 64ms/step - loss: 4.5319e-05 - val_loss: 2.4014e-05\n",
            "Epoch 143/200\n",
            "80/80 [==============================] - 5s 65ms/step - loss: 1.1490e-04 - val_loss: 6.7089e-05\n",
            "Epoch 144/200\n",
            "80/80 [==============================] - 5s 64ms/step - loss: 5.0593e-05 - val_loss: 4.4407e-05\n",
            "Epoch 145/200\n",
            "80/80 [==============================] - 5s 65ms/step - loss: 3.4837e-05 - val_loss: 4.4917e-05\n",
            "Epoch 146/200\n",
            "80/80 [==============================] - 5s 65ms/step - loss: 6.2811e-05 - val_loss: 7.2121e-05\n",
            "Epoch 147/200\n",
            "80/80 [==============================] - 5s 65ms/step - loss: 5.7693e-05 - val_loss: 4.1777e-05\n",
            "Epoch 148/200\n",
            "80/80 [==============================] - 5s 65ms/step - loss: 3.0880e-05 - val_loss: 3.4430e-05\n",
            "Epoch 149/200\n",
            "80/80 [==============================] - 5s 65ms/step - loss: 2.0839e-05 - val_loss: 1.5415e-05\n",
            "Epoch 150/200\n",
            "80/80 [==============================] - 5s 65ms/step - loss: 2.1537e-05 - val_loss: 2.0638e-05\n",
            "Epoch 151/200\n",
            "80/80 [==============================] - 5s 65ms/step - loss: 2.7360e-05 - val_loss: 1.6477e-05\n",
            "Epoch 152/200\n",
            "80/80 [==============================] - 5s 66ms/step - loss: 1.8874e-05 - val_loss: 7.2559e-05\n",
            "Epoch 153/200\n",
            "80/80 [==============================] - 5s 65ms/step - loss: 6.9048e-05 - val_loss: 5.0930e-05\n",
            "Epoch 154/200\n",
            "80/80 [==============================] - 5s 65ms/step - loss: 2.8671e-05 - val_loss: 5.8468e-05\n",
            "Epoch 155/200\n",
            "80/80 [==============================] - 5s 65ms/step - loss: 2.3432e-05 - val_loss: 1.5998e-05\n",
            "Epoch 156/200\n",
            "80/80 [==============================] - 5s 66ms/step - loss: 3.0427e-05 - val_loss: 4.4959e-05\n",
            "Epoch 157/200\n",
            "80/80 [==============================] - 5s 65ms/step - loss: 3.2445e-05 - val_loss: 2.3783e-05\n",
            "Epoch 158/200\n",
            "80/80 [==============================] - 5s 66ms/step - loss: 9.2975e-05 - val_loss: 7.3334e-05\n",
            "Epoch 159/200\n",
            "80/80 [==============================] - 5s 65ms/step - loss: 5.4509e-05 - val_loss: 6.4951e-05\n",
            "Epoch 160/200\n",
            "80/80 [==============================] - 5s 65ms/step - loss: 2.3531e-05 - val_loss: 4.9096e-05\n",
            "Epoch 161/200\n",
            "80/80 [==============================] - 5s 65ms/step - loss: 3.6206e-05 - val_loss: 1.3330e-05\n",
            "Epoch 162/200\n",
            "80/80 [==============================] - 5s 65ms/step - loss: 1.4615e-05 - val_loss: 1.5425e-05\n",
            "Epoch 163/200\n",
            "80/80 [==============================] - 5s 64ms/step - loss: 2.7755e-05 - val_loss: 1.5090e-05\n",
            "Epoch 164/200\n",
            "80/80 [==============================] - 5s 65ms/step - loss: 2.8897e-05 - val_loss: 3.1895e-05\n",
            "Epoch 165/200\n",
            "80/80 [==============================] - 5s 64ms/step - loss: 2.7609e-05 - val_loss: 2.8629e-05\n",
            "Epoch 166/200\n",
            "80/80 [==============================] - 5s 65ms/step - loss: 3.3535e-05 - val_loss: 2.9668e-05\n",
            "Epoch 167/200\n",
            "80/80 [==============================] - 5s 65ms/step - loss: 1.6121e-05 - val_loss: 1.1925e-05\n",
            "Epoch 168/200\n",
            "80/80 [==============================] - 5s 65ms/step - loss: 3.2995e-05 - val_loss: 5.0074e-05\n",
            "Epoch 169/200\n",
            "80/80 [==============================] - 5s 64ms/step - loss: 2.5220e-05 - val_loss: 2.3727e-05\n",
            "Epoch 170/200\n",
            "80/80 [==============================] - 5s 65ms/step - loss: 1.9640e-05 - val_loss: 2.9757e-05\n",
            "Epoch 171/200\n",
            "80/80 [==============================] - 5s 64ms/step - loss: 1.8159e-05 - val_loss: 5.7752e-05\n",
            "Epoch 172/200\n",
            "80/80 [==============================] - 5s 65ms/step - loss: 1.7616e-05 - val_loss: 8.3955e-06\n",
            "Epoch 173/200\n",
            "80/80 [==============================] - 5s 64ms/step - loss: 3.0911e-05 - val_loss: 5.0370e-05\n",
            "Epoch 174/200\n",
            "80/80 [==============================] - 5s 65ms/step - loss: 5.9549e-05 - val_loss: 3.6685e-05\n",
            "Epoch 175/200\n",
            "80/80 [==============================] - 5s 65ms/step - loss: 2.7829e-05 - val_loss: 1.1784e-05\n",
            "Epoch 176/200\n",
            "80/80 [==============================] - 5s 64ms/step - loss: 1.9428e-05 - val_loss: 1.2257e-05\n",
            "Epoch 177/200\n",
            "80/80 [==============================] - 5s 65ms/step - loss: 2.5367e-05 - val_loss: 8.9058e-06\n",
            "Epoch 178/200\n",
            "80/80 [==============================] - 5s 65ms/step - loss: 1.0936e-05 - val_loss: 1.4049e-05\n",
            "Epoch 179/200\n",
            "80/80 [==============================] - 5s 65ms/step - loss: 2.1342e-05 - val_loss: 1.0258e-05\n",
            "Epoch 180/200\n",
            "80/80 [==============================] - 5s 65ms/step - loss: 1.3612e-05 - val_loss: 1.6583e-05\n",
            "Epoch 181/200\n",
            "80/80 [==============================] - 5s 65ms/step - loss: 9.5515e-06 - val_loss: 9.4546e-06\n",
            "Epoch 182/200\n",
            "80/80 [==============================] - 5s 65ms/step - loss: 1.6771e-05 - val_loss: 8.9802e-06\n",
            "Epoch 183/200\n",
            "80/80 [==============================] - 5s 65ms/step - loss: 9.2427e-06 - val_loss: 3.2118e-05\n",
            "Epoch 184/200\n",
            "80/80 [==============================] - 5s 65ms/step - loss: 3.1183e-05 - val_loss: 1.8016e-05\n",
            "Epoch 185/200\n",
            "80/80 [==============================] - 5s 65ms/step - loss: 1.2324e-05 - val_loss: 1.4535e-05\n",
            "Epoch 186/200\n",
            "80/80 [==============================] - 5s 65ms/step - loss: 1.0498e-05 - val_loss: 7.5236e-06\n",
            "Epoch 187/200\n",
            "80/80 [==============================] - 5s 67ms/step - loss: 1.4228e-05 - val_loss: 1.2690e-05\n",
            "Epoch 188/200\n",
            "80/80 [==============================] - 5s 67ms/step - loss: 1.1652e-05 - val_loss: 3.0996e-05\n",
            "Epoch 189/200\n",
            "80/80 [==============================] - 5s 67ms/step - loss: 2.3366e-05 - val_loss: 9.8850e-06\n",
            "Epoch 190/200\n",
            "80/80 [==============================] - 5s 68ms/step - loss: 2.0148e-05 - val_loss: 1.5307e-05\n",
            "Epoch 191/200\n",
            "80/80 [==============================] - 5s 67ms/step - loss: 1.5982e-05 - val_loss: 1.3204e-05\n",
            "Epoch 192/200\n",
            "80/80 [==============================] - 5s 67ms/step - loss: 2.4719e-05 - val_loss: 4.1045e-05\n",
            "Epoch 193/200\n",
            "80/80 [==============================] - 5s 67ms/step - loss: 1.9536e-05 - val_loss: 1.6099e-05\n",
            "Epoch 194/200\n",
            "80/80 [==============================] - 5s 67ms/step - loss: 2.2683e-05 - val_loss: 1.3116e-05\n",
            "Epoch 195/200\n",
            "80/80 [==============================] - 5s 67ms/step - loss: 1.1528e-05 - val_loss: 1.1686e-05\n",
            "Epoch 196/200\n",
            "80/80 [==============================] - 5s 67ms/step - loss: 1.7700e-05 - val_loss: 7.0112e-05\n",
            "Epoch 197/200\n",
            "80/80 [==============================] - 5s 66ms/step - loss: 2.9746e-05 - val_loss: 2.1536e-05\n",
            "Epoch 198/200\n",
            "80/80 [==============================] - 5s 67ms/step - loss: 1.9082e-05 - val_loss: 1.1601e-05\n",
            "Epoch 199/200\n",
            "80/80 [==============================] - 5s 67ms/step - loss: 1.1416e-05 - val_loss: 1.3757e-05\n",
            "Epoch 200/200\n",
            "80/80 [==============================] - 5s 67ms/step - loss: 1.9351e-05 - val_loss: 4.3852e-05\n"
          ],
          "name": "stdout"
        },
        {
          "output_type": "execute_result",
          "data": {
            "text/plain": [
              "<tensorflow.python.keras.callbacks.History at 0x7f4c82f0e250>"
            ]
          },
          "metadata": {
            "tags": []
          },
          "execution_count": 14
        }
      ]
    },
    {
      "cell_type": "markdown",
      "metadata": {
        "id": "p-WCC6GsbUCf"
      },
      "source": [
        "Extract testing data the same way"
      ]
    },
    {
      "cell_type": "code",
      "metadata": {
        "colab": {
          "base_uri": "https://localhost:8080/"
        },
        "id": "GOxV_qbnbYot",
        "outputId": "cc784c50-8a71-4f71-aab5-852fbaf7a1cb"
      },
      "source": [
        "#testing data\n",
        "\n",
        "# number of FEM nodes (control nodes in Higa setting)\n",
        "n_FEMnodes = 11\n",
        "# number of parameters(mu, beta1, beta2, sigma, f)\n",
        "n_params = 5\n",
        "# number of PDEs problems considered (CHANGED WRT TRAINING STAGE OF COURSE)\n",
        "t_PDEs = 1\n",
        "# number of quadrature nodes for each FEM node\n",
        "data_size = 100 #(expected_output.shape[1])\n",
        "\n",
        "#import expected output dataset\n",
        "t_expected_output = np.loadtxt('TestOutput.txt')\n",
        "print(t_expected_output.shape) # n FEM nodes x t PDEs x n QUAD nodes\n",
        "\n",
        "# import input dataset (think about importing n PDEs files instead SolutionInput_1.txt ... SolutionInput_nPDEs.txt)\n",
        "t_input = np.loadtxt('TestInput.txt')\n",
        "print(t_input.shape) # n FEM nodes x n PDEs x t params x n QUAD nodes"
      ],
      "execution_count": null,
      "outputs": [
        {
          "output_type": "stream",
          "text": [
            "(11, 100)\n",
            "(55, 100)\n"
          ],
          "name": "stdout"
        }
      ]
    },
    {
      "cell_type": "markdown",
      "metadata": {
        "id": "np811yIDb3_L"
      },
      "source": [
        "Reshaping testing expected output"
      ]
    },
    {
      "cell_type": "code",
      "metadata": {
        "colab": {
          "base_uri": "https://localhost:8080/"
        },
        "id": "hH4HMTq9bxim",
        "outputId": "706ad758-579c-48e0-8a89-eb271279e18f"
      },
      "source": [
        "t_expected_output_rshpd = t_expected_output.reshape([t_PDEs, n_FEMnodes, data_size])\n",
        "print(t_expected_output_rshpd.shape) # t PDEs x n FEM nodes x n QUAD nodes"
      ],
      "execution_count": null,
      "outputs": [
        {
          "output_type": "stream",
          "text": [
            "(1, 11, 100)\n"
          ],
          "name": "stdout"
        }
      ]
    },
    {
      "cell_type": "code",
      "metadata": {
        "id": "3F7X78BVb2_a"
      },
      "source": [
        "#t_expected_output_rshpd = np.swapaxes(t_expected_output_rshpd, 0, 1)\n",
        "#print(t_expected_output_rshpd.shape) # t FEM nodes x n PDEs x n QUAD nodes"
      ],
      "execution_count": null,
      "outputs": []
    },
    {
      "cell_type": "markdown",
      "metadata": {
        "id": "KcrFp26FcEMf"
      },
      "source": [
        "Reshaping testing input"
      ]
    },
    {
      "cell_type": "code",
      "metadata": {
        "colab": {
          "base_uri": "https://localhost:8080/"
        },
        "id": "4p0juCbFcEMf",
        "outputId": "c14bca6d-32f3-48c9-eeae-ba2430114ce0"
      },
      "source": [
        "t_input_rshpd = t_input.reshape([t_PDEs, n_FEMnodes, n_params, data_size])\n",
        "print(t_input_rshpd.shape) # t PDEs x n FEM nodes x n params x n QUAD nodes"
      ],
      "execution_count": null,
      "outputs": [
        {
          "output_type": "stream",
          "text": [
            "(1, 11, 5, 100)\n"
          ],
          "name": "stdout"
        }
      ]
    },
    {
      "cell_type": "code",
      "metadata": {
        "id": "XyZJgLc8cEMh",
        "colab": {
          "base_uri": "https://localhost:8080/"
        },
        "outputId": "ef171e65-f162-4905-d6e3-0c7d982dd3ba"
      },
      "source": [
        "t_input_rshpd = np.swapaxes(t_input_rshpd, 2, 3)\n",
        "print(t_input_rshpd.shape) # t FEM nodes x n PDEs x n params x n QUAD nodes"
      ],
      "execution_count": null,
      "outputs": [
        {
          "output_type": "stream",
          "text": [
            "(1, 11, 100, 5)\n"
          ],
          "name": "stdout"
        }
      ]
    },
    {
      "cell_type": "markdown",
      "metadata": {
        "id": "sa-sczw5cxx0"
      },
      "source": [
        "Evaluate the model through the testing dataset"
      ]
    },
    {
      "cell_type": "code",
      "metadata": {
        "colab": {
          "base_uri": "https://localhost:8080/"
        },
        "id": "wvqbr3jCdGvF",
        "outputId": "5ca6a44b-bbd5-48fe-fb51-11a57a4f316b"
      },
      "source": [
        "x_test = t_input_rshpd\n",
        "y_test = t_expected_output_rshpd\n",
        "\n",
        "print(x_test.shape)\n",
        "print(y_test.shape) "
      ],
      "execution_count": null,
      "outputs": [
        {
          "output_type": "stream",
          "text": [
            "(1, 11, 100, 5)\n",
            "(1, 11, 100)\n"
          ],
          "name": "stdout"
        }
      ]
    },
    {
      "cell_type": "code",
      "metadata": {
        "id": "BAZNJQwkgfSj",
        "colab": {
          "base_uri": "https://localhost:8080/"
        },
        "outputId": "2f7d25e3-a18b-4b55-a05a-d59845f6bc43"
      },
      "source": [
        "test_loss = model.evaluate(x_test, y_test)\n",
        "#print('Test accuracy:', test_acc)\n",
        "print('Test loss:', test_loss)"
      ],
      "execution_count": null,
      "outputs": [
        {
          "output_type": "stream",
          "text": [
            "1/1 [==============================] - 0s 104ms/step - loss: 2.0012e-04\n",
            "Test loss: 0.00020012204186059535\n"
          ],
          "name": "stdout"
        }
      ]
    },
    {
      "cell_type": "markdown",
      "metadata": {
        "id": "95TEWCTvRocE"
      },
      "source": [
        "Predict the output for the desidered input"
      ]
    },
    {
      "cell_type": "code",
      "metadata": {
        "colab": {
          "base_uri": "https://localhost:8080/"
        },
        "id": "yajl0zGxRs4I",
        "outputId": "24f51db1-af27-460e-ed07-c0ccc52a7ee1"
      },
      "source": [
        "result = model.predict(x_test, batch_size=50)\n",
        "print(result.shape)"
      ],
      "execution_count": null,
      "outputs": [
        {
          "output_type": "stream",
          "text": [
            "(1, 11, 100)\n"
          ],
          "name": "stdout"
        }
      ]
    },
    {
      "cell_type": "code",
      "metadata": {
        "id": "n2rY0h1RkLDz"
      },
      "source": [
        "result"
      ],
      "execution_count": null,
      "outputs": []
    },
    {
      "cell_type": "markdown",
      "metadata": {
        "id": "tyhBCQMWdE70"
      },
      "source": [
        "Write a file containing the results of the output of the CNN on the input x_test"
      ]
    },
    {
      "cell_type": "code",
      "metadata": {
        "id": "TyDCJsBIdEE5"
      },
      "source": [
        "result = result.reshape((n_FEMnodes, data_size))\n",
        "f = open(\"output_ML.txt\", \"w\")\n",
        "\n",
        "for i in range(result.shape[0]):\n",
        "  for j in range(result.shape[1]):\n",
        "    f.write(str(result[i][j]))\n",
        "    f.write(\"  \")\n",
        "  f.write(\"\\n\")\n",
        "\n",
        "f.close()"
      ],
      "execution_count": null,
      "outputs": []
    }
  ]
}