{
  "nbformat": 4,
  "nbformat_minor": 0,
  "metadata": {
    "colab": {
      "name": "conv_modified.ipynb",
      "provenance": [],
      "collapsed_sections": [],
      "authorship_tag": "ABX9TyPf3RCeYMslMsbM1Qve8acu",
      "include_colab_link": true
    },
    "kernelspec": {
      "name": "python3",
      "display_name": "Python 3"
    }
  },
  "cells": [
    {
      "cell_type": "markdown",
      "metadata": {
        "id": "view-in-github",
        "colab_type": "text"
      },
      "source": [
        "<a href=\"https://colab.research.google.com/github/framante/NAPDE-project-NN/blob/main/conv_modified.ipynb\" target=\"_parent\"><img src=\"https://colab.research.google.com/assets/colab-badge.svg\" alt=\"Open In Colab\"/></a>"
      ]
    },
    {
      "cell_type": "code",
      "metadata": {
        "id": "PhPXshQOJYbV"
      },
      "source": [
        "import numpy as np\n",
        "import tensorflow as tf\n",
        "from keras.layers.core import Reshape"
      ],
      "execution_count": null,
      "outputs": []
    },
    {
      "cell_type": "markdown",
      "metadata": {
        "id": "QpKboFVrwIlD"
      },
      "source": [
        "REMEMBER THAT IN PYTHON THE FIRST DIMENSION OF A TENSOR IS THE WIDTH, WHICH I USUALLY CONSIDER AS THE THIRD ONE, while the remaining others are the dimension of a classical matrix n rows x n cols"
      ]
    },
    {
      "cell_type": "code",
      "metadata": {
        "colab": {
          "base_uri": "https://localhost:8080/"
        },
        "id": "5eLfQGbA0Vyd",
        "outputId": "ffc4579b-a746-4386-dd39-eb51883a8093"
      },
      "source": [
        "#training data\n",
        "\n",
        "# FINAL STEP: here we implement the version for all FEM nodes (hopefully)\n",
        "\n",
        "# number of FEM nodes (control nodes in Higa setting)\n",
        "n_FEMnodes = 51\n",
        "# number of parameters(mu, beta1, beta2, sigma, f)\n",
        "n_params = 5\n",
        "# number of PDEs problems considered\n",
        "n_PDEs = 500\n",
        "# number of quadrature nodes for each FEM node\n",
        "data_size = 32\n",
        "\n",
        "#import expected output dataset\n",
        "expected_output = np.loadtxt('SolutionOutput.txt')\n",
        "print(expected_output.shape) # n FEM nodes x n PDEs x n QUAD nodes\n",
        "\n",
        "# import input dataset (think about importing n PDEs files instead SolutionInput_1.txt ... SolutionInput_nPDEs.txt)\n",
        "input = np.loadtxt('SolutionInput.txt')\n",
        "print(input.shape) # n FEM nodes x n PDEs x n params x n QUAD nodes"
      ],
      "execution_count": null,
      "outputs": [
        {
          "output_type": "stream",
          "text": [
            "(25500, 32)\n",
            "(127500, 32)\n"
          ],
          "name": "stdout"
        }
      ]
    },
    {
      "cell_type": "markdown",
      "metadata": {
        "id": "xTVtuB2vxsGr"
      },
      "source": [
        "Reshaping the expected output such that it's a tensor where each matrix is (n FEM nodes x n QUAD nodes) and the third dimension is the n PDEs"
      ]
    },
    {
      "cell_type": "code",
      "metadata": {
        "colab": {
          "base_uri": "https://localhost:8080/"
        },
        "id": "pxbsFEfrlPBE",
        "outputId": "1b78149f-c857-4eda-d789-44e73a5d6abd"
      },
      "source": [
        "expected_output_rshpd = expected_output.reshape([n_PDEs, n_FEMnodes, data_size])\n",
        "print(expected_output_rshpd.shape) # n PDEs x n FEM nodes x n QUAD nodes"
      ],
      "execution_count": null,
      "outputs": [
        {
          "output_type": "stream",
          "text": [
            "(500, 51, 32)\n"
          ],
          "name": "stdout"
        }
      ]
    },
    {
      "cell_type": "markdown",
      "metadata": {
        "id": "_9lFuzI3xKlO"
      },
      "source": [
        "\"Rolling the dice\" so that we have a tensor where each matrix is (n PDEs x n QUAD nodes) and the third dimension is n FEM nodes"
      ]
    },
    {
      "cell_type": "code",
      "metadata": {
        "id": "YPAuGoa5xJtz"
      },
      "source": [
        "#expected_output_rshpd = np.swapaxes(expected_output_rshpd, 0, 1)\n",
        "#print(expected_output_rshpd.shape) # n FEM nodes x n PDEs x n QUAD nodes"
      ],
      "execution_count": null,
      "outputs": []
    },
    {
      "cell_type": "markdown",
      "metadata": {
        "id": "nSaNu61UoooH"
      },
      "source": [
        "Reshaping input"
      ]
    },
    {
      "cell_type": "code",
      "metadata": {
        "colab": {
          "base_uri": "https://localhost:8080/"
        },
        "id": "3_JBrHcn5KyD",
        "outputId": "039a6113-ddd5-4ee0-b74d-c6a41e13e7d0"
      },
      "source": [
        "input_rshpd = input.reshape([n_PDEs, n_FEMnodes, n_params, data_size])\n",
        "print(input_rshpd.shape) # n PDEs x n FEM nodes x n params x n QUAD nodes"
      ],
      "execution_count": null,
      "outputs": [
        {
          "output_type": "stream",
          "text": [
            "(500, 51, 5, 32)\n"
          ],
          "name": "stdout"
        }
      ]
    },
    {
      "cell_type": "code",
      "metadata": {
        "id": "LPuKVlgEopUx",
        "colab": {
          "base_uri": "https://localhost:8080/"
        },
        "outputId": "c9d6b657-e0da-45ac-cd03-ed12025d9e40"
      },
      "source": [
        "input_rshpd = np.swapaxes(input_rshpd, 2, 3)\n",
        "print(input_rshpd.shape) # n FEM nodes x n PDEs x n params x n QUAD nodes"
      ],
      "execution_count": null,
      "outputs": [
        {
          "output_type": "stream",
          "text": [
            "(500, 51, 32, 5)\n"
          ],
          "name": "stdout"
        }
      ]
    },
    {
      "cell_type": "markdown",
      "metadata": {
        "id": "mucgUIqZy7Rl"
      },
      "source": [
        "The training data should be interpreted as input and expected output\n",
        "\n",
        "\n",
        "the input is given by the terms (mu, beta1, beta2, sigma, force) of the ADR problem  computed in the grid (n FEM nodes x n QUAD nodes)\n",
        "\n",
        "the output is given by the kind-of-solution (...specify how it has been got....) evaluated in the grid (n FEM nodes x n QUAD nodes)"
      ]
    },
    {
      "cell_type": "code",
      "metadata": {
        "id": "BWRTHWc7KCyf",
        "colab": {
          "base_uri": "https://localhost:8080/"
        },
        "outputId": "b78ff291-024a-4f12-fecf-c14e7a19da9b"
      },
      "source": [
        "x_train = input_rshpd\n",
        "#x_train = np.expand_dims(x_train, 4) \n",
        "y_train = expected_output_rshpd\n",
        "\n",
        "print(x_train.shape)\n",
        "print(y_train.shape) "
      ],
      "execution_count": null,
      "outputs": [
        {
          "output_type": "stream",
          "text": [
            "(500, 51, 32, 5)\n",
            "(500, 51, 32)\n"
          ],
          "name": "stdout"
        }
      ]
    },
    {
      "cell_type": "markdown",
      "metadata": {
        "id": "3S2n7R0ERE6Y"
      },
      "source": [
        "training for all n_FEMnodes, the tuning of the width of the window is done within the layers conv1D"
      ]
    },
    {
      "cell_type": "code",
      "metadata": {
        "id": "WLuM0SCmxfCy",
        "colab": {
          "base_uri": "https://localhost:8080/"
        },
        "outputId": "9bad5f19-e226-4d31-fac2-ddc2ff3b7749"
      },
      "source": [
        "input_shape = (n_FEMnodes, data_size, n_params)\n",
        "model = tf.keras.Sequential()\n",
        "layer1 = tf.keras.Input(shape=input_shape)\n",
        "model.add(layer1)\n",
        "layer2 = tf.keras.layers.Flatten()\n",
        "model.add(layer2)\n",
        "layer3 = tf.keras.layers.Dense(1000, activation=\"relu\", activity_regularizer=tf.keras.regularizers.L2(1e-5))\n",
        "model.add(layer3)\n",
        "layer4 = tf.keras.layers.Dense(1000, activation=\"relu\", activity_regularizer=tf.keras.regularizers.L2(1e-5))\n",
        "model.add(layer4)\n",
        "layer5 = tf.keras.layers.Dense(1000, activation=\"relu\", activity_regularizer=tf.keras.regularizers.L2(1e-5))\n",
        "model.add(layer5)\n",
        "layer6 = tf.keras.layers.Dense(n_FEMnodes * data_size, activity_regularizer=tf.keras.regularizers.L2(1e-5))\n",
        "model.add(layer6)\n",
        "layer7 = tf.keras.layers.Reshape((n_FEMnodes, data_size))\n",
        "model.add(layer7)\n",
        "model.output_shape"
      ],
      "execution_count": null,
      "outputs": [
        {
          "output_type": "stream",
          "text": [
            "WARNING:tensorflow:Please add `keras.layers.InputLayer` instead of `keras.Input` to Sequential model. `keras.Input` is intended to be used by Functional model.\n"
          ],
          "name": "stdout"
        },
        {
          "output_type": "execute_result",
          "data": {
            "text/plain": [
              "(None, 51, 32)"
            ]
          },
          "metadata": {
            "tags": []
          },
          "execution_count": 20
        }
      ]
    },
    {
      "cell_type": "code",
      "metadata": {
        "id": "JvAnA-g-8bkd"
      },
      "source": [
        "model.summary()"
      ],
      "execution_count": null,
      "outputs": []
    },
    {
      "cell_type": "code",
      "metadata": {
        "id": "sOTJ4vNSnd99"
      },
      "source": [
        "#tf.keras.utils.plot_model(model, \"model_shape_info.png\", show_shapes=True)"
      ],
      "execution_count": null,
      "outputs": []
    },
    {
      "cell_type": "code",
      "metadata": {
        "id": "HyLkl2JN3O1i"
      },
      "source": [
        "model.compile(optimizer = tf.keras.optimizers.Adam(learning_rate=1e-4), \n",
        "              #loss = \"mse\"\n",
        "              loss = \"mae\"\n",
        "              #,metrics=tf.keras.metrics.MeanSquaredLogarithmicError( name='msl_err', dtype=None)\n",
        "              )"
      ],
      "execution_count": null,
      "outputs": []
    },
    {
      "cell_type": "code",
      "metadata": {
        "id": "Yo_J65jVxo3v",
        "colab": {
          "base_uri": "https://localhost:8080/"
        },
        "outputId": "b9f99ed8-ee57-4f39-aec3-707481ceaa42"
      },
      "source": [
        "batch_size = 20\n",
        "epochs = 20\n",
        "model.fit(x_train, y_train, batch_size=batch_size, epochs=epochs, validation_split = 0.2)"
      ],
      "execution_count": null,
      "outputs": [
        {
          "output_type": "stream",
          "text": [
            "Epoch 1/20\n",
            "20/20 [==============================] - 2s 90ms/step - loss: 0.3188 - val_loss: 0.0045\n",
            "Epoch 2/20\n",
            "20/20 [==============================] - 2s 82ms/step - loss: 0.0027 - val_loss: 0.0025\n",
            "Epoch 3/20\n",
            "20/20 [==============================] - 2s 82ms/step - loss: 0.0020 - val_loss: 0.0021\n",
            "Epoch 4/20\n",
            "20/20 [==============================] - 2s 81ms/step - loss: 0.0017 - val_loss: 0.0019\n",
            "Epoch 5/20\n",
            "20/20 [==============================] - 2s 81ms/step - loss: 0.0016 - val_loss: 0.0018\n",
            "Epoch 6/20\n",
            "20/20 [==============================] - 2s 81ms/step - loss: 0.0016 - val_loss: 0.0017\n",
            "Epoch 7/20\n",
            "20/20 [==============================] - 2s 82ms/step - loss: 0.0015 - val_loss: 0.0017\n",
            "Epoch 8/20\n",
            "20/20 [==============================] - 2s 83ms/step - loss: 0.0015 - val_loss: 0.0017\n",
            "Epoch 9/20\n",
            "20/20 [==============================] - 2s 82ms/step - loss: 0.0015 - val_loss: 0.0016\n",
            "Epoch 10/20\n",
            "20/20 [==============================] - 2s 83ms/step - loss: 0.0015 - val_loss: 0.0016\n",
            "Epoch 11/20\n",
            "20/20 [==============================] - 2s 83ms/step - loss: 0.0015 - val_loss: 0.0016\n",
            "Epoch 12/20\n",
            "20/20 [==============================] - 2s 82ms/step - loss: 0.0015 - val_loss: 0.0016\n",
            "Epoch 13/20\n",
            "20/20 [==============================] - 2s 84ms/step - loss: 0.0015 - val_loss: 0.0016\n",
            "Epoch 14/20\n",
            "20/20 [==============================] - 2s 83ms/step - loss: 0.0015 - val_loss: 0.0016\n",
            "Epoch 15/20\n",
            "20/20 [==============================] - 2s 82ms/step - loss: 0.0015 - val_loss: 0.0016\n",
            "Epoch 16/20\n",
            "20/20 [==============================] - 2s 80ms/step - loss: 0.0014 - val_loss: 0.0016\n",
            "Epoch 17/20\n",
            "20/20 [==============================] - 2s 81ms/step - loss: 0.0014 - val_loss: 0.0016\n",
            "Epoch 18/20\n",
            "20/20 [==============================] - 2s 81ms/step - loss: 0.0014 - val_loss: 0.0016\n",
            "Epoch 19/20\n",
            "20/20 [==============================] - 2s 81ms/step - loss: 0.0014 - val_loss: 0.0016\n",
            "Epoch 20/20\n",
            "20/20 [==============================] - 2s 81ms/step - loss: 0.0014 - val_loss: 0.0016\n"
          ],
          "name": "stdout"
        },
        {
          "output_type": "execute_result",
          "data": {
            "text/plain": [
              "<tensorflow.python.keras.callbacks.History at 0x7f22506d19d0>"
            ]
          },
          "metadata": {
            "tags": []
          },
          "execution_count": 22
        }
      ]
    },
    {
      "cell_type": "markdown",
      "metadata": {
        "id": "p-WCC6GsbUCf"
      },
      "source": [
        "Extract testing data the same way"
      ]
    },
    {
      "cell_type": "code",
      "metadata": {
        "colab": {
          "base_uri": "https://localhost:8080/"
        },
        "id": "GOxV_qbnbYot",
        "outputId": "beade35a-c01f-49c7-c1df-b99ec7124f45"
      },
      "source": [
        "#testing data\n",
        "\n",
        "# number of FEM nodes (control nodes in Higa setting)\n",
        "n_FEMnodes = 51\n",
        "# number of parameters(mu, beta1, beta2, sigma, f)\n",
        "n_params = 5\n",
        "# number of PDEs problems considered (CHANGED WRT TRAINING STAGE OF COURSE)\n",
        "t_PDEs = 1\n",
        "# number of quadrature nodes for each FEM node\n",
        "data_size = 32 #(expected_output.shape[1])\n",
        "\n",
        "#import expected output dataset\n",
        "t_expected_output = np.loadtxt('TestOutput.txt')\n",
        "print(t_expected_output.shape) # n FEM nodes x t PDEs x n QUAD nodes\n",
        "\n",
        "# import input dataset (think about importing n PDEs files instead SolutionInput_1.txt ... SolutionInput_nPDEs.txt)\n",
        "t_input = np.loadtxt('TestInput.txt')\n",
        "print(t_input.shape) # n FEM nodes x n PDEs x t params x n QUAD nodes"
      ],
      "execution_count": null,
      "outputs": [
        {
          "output_type": "stream",
          "text": [
            "(51, 32)\n",
            "(255, 32)\n"
          ],
          "name": "stdout"
        }
      ]
    },
    {
      "cell_type": "markdown",
      "metadata": {
        "id": "np811yIDb3_L"
      },
      "source": [
        "Reshaping testing expected output"
      ]
    },
    {
      "cell_type": "code",
      "metadata": {
        "colab": {
          "base_uri": "https://localhost:8080/"
        },
        "id": "hH4HMTq9bxim",
        "outputId": "22b6c6a6-f27c-475d-f750-01a96a01e04d"
      },
      "source": [
        "t_expected_output_rshpd = t_expected_output.reshape([t_PDEs, n_FEMnodes, data_size])\n",
        "print(t_expected_output_rshpd.shape) # t PDEs x n FEM nodes x n QUAD nodes"
      ],
      "execution_count": null,
      "outputs": [
        {
          "output_type": "stream",
          "text": [
            "(1, 51, 32)\n"
          ],
          "name": "stdout"
        }
      ]
    },
    {
      "cell_type": "code",
      "metadata": {
        "id": "3F7X78BVb2_a"
      },
      "source": [
        "#t_expected_output_rshpd = np.swapaxes(t_expected_output_rshpd, 0, 1)\n",
        "#print(t_expected_output_rshpd.shape) # t FEM nodes x n PDEs x n QUAD nodes"
      ],
      "execution_count": null,
      "outputs": []
    },
    {
      "cell_type": "markdown",
      "metadata": {
        "id": "KcrFp26FcEMf"
      },
      "source": [
        "Reshaping testing input"
      ]
    },
    {
      "cell_type": "code",
      "metadata": {
        "colab": {
          "base_uri": "https://localhost:8080/"
        },
        "id": "4p0juCbFcEMf",
        "outputId": "0b0be9e0-d1e3-458f-b92b-b70bf1161b7c"
      },
      "source": [
        "t_input_rshpd = t_input.reshape([t_PDEs, n_FEMnodes, n_params, data_size])\n",
        "print(t_input_rshpd.shape) # t PDEs x n FEM nodes x n params x n QUAD nodes"
      ],
      "execution_count": null,
      "outputs": [
        {
          "output_type": "stream",
          "text": [
            "(1, 51, 5, 32)\n"
          ],
          "name": "stdout"
        }
      ]
    },
    {
      "cell_type": "code",
      "metadata": {
        "id": "XyZJgLc8cEMh",
        "colab": {
          "base_uri": "https://localhost:8080/"
        },
        "outputId": "0d535dd9-6111-4985-c663-c8e68a7f55ab"
      },
      "source": [
        "t_input_rshpd = np.swapaxes(t_input_rshpd, 2, 3)\n",
        "print(t_input_rshpd.shape) # t FEM nodes x n PDEs x n params x n QUAD nodes"
      ],
      "execution_count": null,
      "outputs": [
        {
          "output_type": "stream",
          "text": [
            "(1, 51, 32, 5)\n"
          ],
          "name": "stdout"
        }
      ]
    },
    {
      "cell_type": "markdown",
      "metadata": {
        "id": "sa-sczw5cxx0"
      },
      "source": [
        "Evaluate the model through the testing dataset"
      ]
    },
    {
      "cell_type": "code",
      "metadata": {
        "colab": {
          "base_uri": "https://localhost:8080/"
        },
        "id": "wvqbr3jCdGvF",
        "outputId": "b3c15826-cf49-4e92-a7eb-e97ec08df0e8"
      },
      "source": [
        "x_test = t_input_rshpd\n",
        "y_test = t_expected_output_rshpd\n",
        "\n",
        "print(x_test.shape)\n",
        "print(y_test.shape) "
      ],
      "execution_count": null,
      "outputs": [
        {
          "output_type": "stream",
          "text": [
            "(1, 51, 32, 5)\n",
            "(1, 51, 32)\n"
          ],
          "name": "stdout"
        }
      ]
    },
    {
      "cell_type": "code",
      "metadata": {
        "id": "BAZNJQwkgfSj",
        "colab": {
          "base_uri": "https://localhost:8080/"
        },
        "outputId": "5a6aad66-36fc-465a-911f-73541959ba0b"
      },
      "source": [
        "test_loss = model.evaluate(x_test, y_test)\n",
        "#print('Test accuracy:', test_acc)\n",
        "print('Test loss:', test_loss)"
      ],
      "execution_count": null,
      "outputs": [
        {
          "output_type": "stream",
          "text": [
            "1/1 [==============================] - 0s 20ms/step - loss: 0.0250\n",
            "Test loss: 0.025034448131918907\n"
          ],
          "name": "stdout"
        }
      ]
    },
    {
      "cell_type": "markdown",
      "metadata": {
        "id": "95TEWCTvRocE"
      },
      "source": [
        "Predict the output for the desidered input"
      ]
    },
    {
      "cell_type": "code",
      "metadata": {
        "colab": {
          "base_uri": "https://localhost:8080/"
        },
        "id": "yajl0zGxRs4I",
        "outputId": "e968010d-4b69-40ee-d576-0d7b857dc3eb"
      },
      "source": [
        "result = model.predict(x_test, batch_size=50)\n",
        "print(result.shape)"
      ],
      "execution_count": null,
      "outputs": [
        {
          "output_type": "stream",
          "text": [
            "(1, 51, 32)\n"
          ],
          "name": "stdout"
        }
      ]
    },
    {
      "cell_type": "code",
      "metadata": {
        "id": "n2rY0h1RkLDz"
      },
      "source": [
        "result"
      ],
      "execution_count": null,
      "outputs": []
    },
    {
      "cell_type": "markdown",
      "metadata": {
        "id": "tyhBCQMWdE70"
      },
      "source": [
        "Write a file containing the results of the output of the CNN on the input x_test"
      ]
    },
    {
      "cell_type": "code",
      "metadata": {
        "id": "TyDCJsBIdEE5"
      },
      "source": [
        "result = result.reshape((n_FEMnodes, data_size))\n",
        "f = open(\"output_ML.txt\", \"w\")\n",
        "\n",
        "for i in range(result.shape[0]):\n",
        "  for j in range(result.shape[1]):\n",
        "    f.write(str(result[i][j]))\n",
        "    f.write(\"  \")\n",
        "  f.write(\"\\n\")\n",
        "\n",
        "f.close()"
      ],
      "execution_count": null,
      "outputs": []
    }
  ]
}
