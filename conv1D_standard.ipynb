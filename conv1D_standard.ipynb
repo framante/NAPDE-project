{
  "nbformat": 4,
  "nbformat_minor": 0,
  "metadata": {
    "colab": {
      "name": "conv1D-standard.ipynb",
      "provenance": [],
      "collapsed_sections": [],
      "authorship_tag": "ABX9TyN1qHAzSLtOYN3x8HJKu/Nw",
      "include_colab_link": true
    },
    "kernelspec": {
      "name": "python3",
      "display_name": "Python 3"
    }
  },
  "cells": [
    {
      "cell_type": "markdown",
      "metadata": {
        "id": "view-in-github",
        "colab_type": "text"
      },
      "source": [
        "<a href=\"https://colab.research.google.com/github/framante/NAPDE-project/blob/main/conv1D_standard.ipynb\" target=\"_parent\"><img src=\"https://colab.research.google.com/assets/colab-badge.svg\" alt=\"Open In Colab\"/></a>"
      ]
    },
    {
      "cell_type": "code",
      "metadata": {
        "id": "PhPXshQOJYbV"
      },
      "source": [
        "import numpy as np\n",
        "import tensorflow as tf\n",
        "from keras.layers.core import Reshape"
      ],
      "execution_count": null,
      "outputs": []
    },
    {
      "cell_type": "markdown",
      "metadata": {
        "id": "QpKboFVrwIlD"
      },
      "source": [
        "REMEMBER THAT IN PYTHON THE FIRST DIMENSION OF A TENSOR IS THE WIDTH, WHICH I USUALLY CONSIDER AS THE THIRD ONE, while the remaining others are the dimension of a classical matrix n rows x n cols"
      ]
    },
    {
      "cell_type": "code",
      "metadata": {
        "colab": {
          "base_uri": "https://localhost:8080/"
        },
        "id": "5eLfQGbA0Vyd",
        "outputId": "9c92785a-a37a-4b13-e185-302a35876f6a"
      },
      "source": [
        "#training data\n",
        "\n",
        "# FINAL STEP: here we implement the version for all FEM nodes (hopefully)\n",
        "\n",
        "# number of FEM nodes (control nodes in Higa setting)\n",
        "n_FEMnodes = 11\n",
        "# number of parameters(mu, beta1, beta2, sigma, f)\n",
        "n_params = 5\n",
        "# number of PDEs problems considered\n",
        "n_PDEs = 200\n",
        "# number of quadrature nodes for each FEM node\n",
        "data_size = 100 #(expected_output.shape[1])\n",
        "\n",
        "#import expected output dataset\n",
        "expected_output = np.loadtxt('SolutionOutput.txt')\n",
        "print(expected_output.shape) # n FEM nodes x n PDEs x n QUAD nodes\n",
        "\n",
        "# import input dataset (think about importing n PDEs files instead SolutionInput_1.txt ... SolutionInput_nPDEs.txt)\n",
        "input = np.loadtxt('SolutionInput.txt')\n",
        "print(input.shape) # n FEM nodes x n PDEs x n params x n QUAD nodes"
      ],
      "execution_count": null,
      "outputs": [
        {
          "output_type": "stream",
          "text": [
            "(2200, 100)\n",
            "(11000, 100)\n"
          ],
          "name": "stdout"
        }
      ]
    },
    {
      "cell_type": "markdown",
      "metadata": {
        "id": "xTVtuB2vxsGr"
      },
      "source": [
        "Reshaping the expected output such that it's a tensor where each matrix is (n FEM nodes x n QUAD nodes) and the third dimension is the n PDEs"
      ]
    },
    {
      "cell_type": "code",
      "metadata": {
        "colab": {
          "base_uri": "https://localhost:8080/"
        },
        "id": "pxbsFEfrlPBE",
        "outputId": "982099bf-3aa5-4f73-a7cd-2f08b5f79892"
      },
      "source": [
        "expected_output_rshpd = expected_output.reshape([n_PDEs, n_FEMnodes, data_size])\n",
        "print(expected_output_rshpd.shape) # n PDEs x n FEM nodes x n QUAD nodes"
      ],
      "execution_count": null,
      "outputs": [
        {
          "output_type": "stream",
          "text": [
            "(200, 11, 100)\n"
          ],
          "name": "stdout"
        }
      ]
    },
    {
      "cell_type": "markdown",
      "metadata": {
        "id": "_9lFuzI3xKlO"
      },
      "source": [
        "\"Rolling the dice\" so that we have a tensor where each matrix is (n PDEs x n QUAD nodes) and the third dimension is n FEM nodes"
      ]
    },
    {
      "cell_type": "code",
      "metadata": {
        "id": "YPAuGoa5xJtz"
      },
      "source": [
        "#expected_output_rshpd = np.swapaxes(expected_output_rshpd, 0, 1)\n",
        "#print(expected_output_rshpd.shape) # n FEM nodes x n PDEs x n QUAD nodes"
      ],
      "execution_count": null,
      "outputs": []
    },
    {
      "cell_type": "markdown",
      "metadata": {
        "id": "nSaNu61UoooH"
      },
      "source": [
        "Reshaping input"
      ]
    },
    {
      "cell_type": "code",
      "metadata": {
        "colab": {
          "base_uri": "https://localhost:8080/"
        },
        "id": "3_JBrHcn5KyD",
        "outputId": "d9387e0b-4cd4-4dd1-ccbd-36c78f32acd9"
      },
      "source": [
        "input_rshpd = input.reshape([n_PDEs, n_FEMnodes, n_params, data_size])\n",
        "print(input_rshpd.shape) # n PDEs x n FEM nodes x n params x n QUAD nodes"
      ],
      "execution_count": null,
      "outputs": [
        {
          "output_type": "stream",
          "text": [
            "(200, 11, 5, 100)\n"
          ],
          "name": "stdout"
        }
      ]
    },
    {
      "cell_type": "code",
      "metadata": {
        "id": "LPuKVlgEopUx",
        "colab": {
          "base_uri": "https://localhost:8080/"
        },
        "outputId": "a46e9614-b1d1-4ca5-fd0c-1596f35aeb86"
      },
      "source": [
        "input_rshpd = np.swapaxes(input_rshpd, 2, 3)\n",
        "print(input_rshpd.shape) # n FEM nodes x n PDEs x n params x n QUAD nodes"
      ],
      "execution_count": null,
      "outputs": [
        {
          "output_type": "stream",
          "text": [
            "(200, 11, 100, 5)\n"
          ],
          "name": "stdout"
        }
      ]
    },
    {
      "cell_type": "markdown",
      "metadata": {
        "id": "mucgUIqZy7Rl"
      },
      "source": [
        "The training data should be interpreted as input and expected output\n",
        "\n",
        "\n",
        "the input is given by the terms (mu, beta1, beta2, sigma, force) of the ADR problem  computed in the grid (n FEM nodes x n QUAD nodes)\n",
        "\n",
        "the output is given by the kind-of-solution (...specify how it has been got....) evaluated in the grid (n FEM nodes x n QUAD nodes)"
      ]
    },
    {
      "cell_type": "code",
      "metadata": {
        "id": "BWRTHWc7KCyf",
        "colab": {
          "base_uri": "https://localhost:8080/"
        },
        "outputId": "e83eca78-2afe-4234-ae8b-aca7b0438479"
      },
      "source": [
        "x_train = input_rshpd\n",
        "#x_train = np.expand_dims(x_train, 4) \n",
        "y_train = expected_output_rshpd\n",
        "\n",
        "print(x_train.shape)\n",
        "print(y_train.shape) "
      ],
      "execution_count": null,
      "outputs": [
        {
          "output_type": "stream",
          "text": [
            "(200, 11, 100, 5)\n",
            "(200, 11, 100)\n"
          ],
          "name": "stdout"
        }
      ]
    },
    {
      "cell_type": "markdown",
      "metadata": {
        "id": "3S2n7R0ERE6Y"
      },
      "source": [
        "training for all n_FEMnodes, the tuning of the width of the window is done within the layers conv1D"
      ]
    },
    {
      "cell_type": "code",
      "metadata": {
        "id": "WLuM0SCmxfCy",
        "colab": {
          "base_uri": "https://localhost:8080/"
        },
        "outputId": "34ae89b7-0031-4928-8ce6-63df323c73e7"
      },
      "source": [
        "#input_shape = (n_FEMnodes, n_params, data_size)\n",
        "input_shape = (n_FEMnodes, data_size, n_params)\n",
        "print(input_shape)\n",
        "\n",
        "model = tf.keras.Sequential()\n",
        "\n",
        "layer1 = tf.keras.Input(shape=input_shape)\n",
        "model.add(layer1)\n",
        "\n",
        "layer2 = tf.keras.layers.Dense(50, activation=\"relu\")\n",
        "model.add(layer2)\n",
        "\n",
        "layer3 = tf.keras.layers.Conv1D(30, kernel_size=(20,), activation=\"relu\")\n",
        "model.add(layer3)\n",
        "\n",
        "layer4 = tf.keras.layers.Dropout(0.2)\n",
        "model.add(layer4)\n",
        "\n",
        "layer5 = tf.keras.layers.Conv1D(10, kernel_size=(30,), activation=\"relu\")\n",
        "model.add(layer5)\n",
        "\n",
        "#layer6 = tf.keras.layers.Dropout(0.2)\n",
        "#model.add(layer6)\n",
        "\n",
        "# layer = tf.keras.layers.MaxPool1D(pool_size=2)\n",
        "# we cannot use a pooling layer since it requires the dimension of input to be : (batch_shape, steps, features)\n",
        "# and we have instead 4 dimensions\n",
        "\n",
        "#layer8 = tf.keras.layers.Conv1D(10, kernel_size=2, activation=\"relu\")\n",
        "#model.add(layer8)\n",
        "\n",
        "model.add(tf.keras.layers.Reshape((n_FEMnodes, 52*10)) )\n",
        "\n",
        "layer9 = tf.keras.layers.Conv1D(10, kernel_size=5, padding=\"same\", activation=\"relu\")\n",
        "model.add(layer9)\n",
        "\n",
        "layer10 = tf.keras.layers.Dropout(0.5)\n",
        "model.add(layer10)\n",
        "\n",
        "layer11 = tf.keras.layers.Dense(data_size)\n",
        "model.add(layer11)\n",
        "\n",
        "#tf.keras.layers.MaxPool1D(pool_size=2)\n",
        "#tf.keras.layers.Flatten()\n",
        "\n",
        "#layer11 = tf.keras.layers.Dense(data_size)\n",
        "#model.add(layer11)"
      ],
      "execution_count": null,
      "outputs": [
        {
          "output_type": "stream",
          "text": [
            "(11, 100, 5)\n"
          ],
          "name": "stdout"
        }
      ]
    },
    {
      "cell_type": "code",
      "metadata": {
        "id": "JvAnA-g-8bkd",
        "colab": {
          "base_uri": "https://localhost:8080/"
        },
        "outputId": "c18df05a-61d9-406c-f20d-563bd3f47b5f"
      },
      "source": [
        "model.summary()"
      ],
      "execution_count": null,
      "outputs": [
        {
          "output_type": "stream",
          "text": [
            "Model: \"sequential_2\"\n",
            "_________________________________________________________________\n",
            "Layer (type)                 Output Shape              Param #   \n",
            "=================================================================\n",
            "dense_4 (Dense)              (None, 11, 100, 50)       300       \n",
            "_________________________________________________________________\n",
            "conv1d_6 (Conv1D)            (None, 11, 81, 30)        30030     \n",
            "_________________________________________________________________\n",
            "dropout_2 (Dropout)          (None, 11, 81, 30)        0         \n",
            "_________________________________________________________________\n",
            "conv1d_7 (Conv1D)            (None, 11, 52, 10)        9010      \n",
            "_________________________________________________________________\n",
            "reshape_2 (Reshape)          (None, 11, 520)           0         \n",
            "_________________________________________________________________\n",
            "conv1d_8 (Conv1D)            (None, 11, 10)            26010     \n",
            "_________________________________________________________________\n",
            "dropout_3 (Dropout)          (None, 11, 10)            0         \n",
            "_________________________________________________________________\n",
            "dense_5 (Dense)              (None, 11, 100)           1100      \n",
            "=================================================================\n",
            "Total params: 66,450\n",
            "Trainable params: 66,450\n",
            "Non-trainable params: 0\n",
            "_________________________________________________________________\n"
          ],
          "name": "stdout"
        }
      ]
    },
    {
      "cell_type": "code",
      "metadata": {
        "id": "sOTJ4vNSnd99"
      },
      "source": [
        "tf.keras.utils.plot_model(model, \"model_shape_info.png\", show_shapes=True)"
      ],
      "execution_count": null,
      "outputs": []
    },
    {
      "cell_type": "code",
      "metadata": {
        "id": "HyLkl2JN3O1i"
      },
      "source": [
        "model.compile(optimizer = tf.keras.optimizers.RMSprop(learning_rate=0.2,rho=0.9), \n",
        "              loss = \"mse\"\n",
        "              #,metrics=tf.keras.metrics.MeanSquaredLogarithmicError( name='msl_err', dtype=None)\n",
        "              )"
      ],
      "execution_count": null,
      "outputs": []
    },
    {
      "cell_type": "code",
      "metadata": {
        "id": "Yo_J65jVxo3v",
        "colab": {
          "base_uri": "https://localhost:8080/"
        },
        "outputId": "f52032d4-b79a-4901-a46d-0ad899962b32"
      },
      "source": [
        "batch_size = 20\n",
        "epochs = 10\n",
        "model.fit(x_train, y_train, batch_size=batch_size, epochs=epochs, validation_split = 0.2)"
      ],
      "execution_count": null,
      "outputs": [
        {
          "output_type": "stream",
          "text": [
            "Epoch 1/10\n",
            "8/8 [==============================] - 3s 241ms/step - loss: 0.3696 - val_loss: 0.0119\n",
            "Epoch 2/10\n",
            "8/8 [==============================] - 2s 217ms/step - loss: 0.0566 - val_loss: 0.0109\n",
            "Epoch 3/10\n",
            "8/8 [==============================] - 2s 217ms/step - loss: 0.0290 - val_loss: 0.0170\n",
            "Epoch 4/10\n",
            "8/8 [==============================] - 2s 211ms/step - loss: 0.0444 - val_loss: 0.0147\n",
            "Epoch 5/10\n",
            "8/8 [==============================] - 2s 212ms/step - loss: 0.0300 - val_loss: 0.0303\n",
            "Epoch 6/10\n",
            "8/8 [==============================] - 2s 214ms/step - loss: 0.0609 - val_loss: 0.0198\n",
            "Epoch 7/10\n",
            "8/8 [==============================] - 2s 211ms/step - loss: 0.0455 - val_loss: 0.0203\n",
            "Epoch 8/10\n",
            "8/8 [==============================] - 2s 214ms/step - loss: 0.0537 - val_loss: 0.0153\n",
            "Epoch 9/10\n",
            "8/8 [==============================] - 2s 212ms/step - loss: 0.0574 - val_loss: 0.0161\n",
            "Epoch 10/10\n",
            "8/8 [==============================] - 2s 212ms/step - loss: 0.0246 - val_loss: 0.0732\n"
          ],
          "name": "stdout"
        },
        {
          "output_type": "execute_result",
          "data": {
            "text/plain": [
              "<tensorflow.python.keras.callbacks.History at 0x7f50caa63410>"
            ]
          },
          "metadata": {
            "tags": []
          },
          "execution_count": 28
        }
      ]
    },
    {
      "cell_type": "markdown",
      "metadata": {
        "id": "p-WCC6GsbUCf"
      },
      "source": [
        "Extract testing data the same way"
      ]
    },
    {
      "cell_type": "code",
      "metadata": {
        "colab": {
          "base_uri": "https://localhost:8080/"
        },
        "id": "GOxV_qbnbYot",
        "outputId": "2db03b88-759a-4470-abf6-28b0febe96d3"
      },
      "source": [
        "#testing data\n",
        "\n",
        "# number of FEM nodes (control nodes in Higa setting)\n",
        "n_FEMnodes = 11\n",
        "# number of parameters(mu, beta1, beta2, sigma, f)\n",
        "n_params = 5\n",
        "# number of PDEs problems considered (CHANGED WRT TRAINING STAGE OF COURSE)\n",
        "t_PDEs = 10\n",
        "# number of quadrature nodes for each FEM node\n",
        "data_size = 100 #(expected_output.shape[1])\n",
        "\n",
        "#import expected output dataset\n",
        "t_expected_output = np.loadtxt('TestOutput.txt')\n",
        "print(t_expected_output.shape) # n FEM nodes x t PDEs x n QUAD nodes\n",
        "\n",
        "# import input dataset (think about importing n PDEs files instead SolutionInput_1.txt ... SolutionInput_nPDEs.txt)\n",
        "t_input = np.loadtxt('TestInput.txt')\n",
        "print(t_input.shape) # n FEM nodes x n PDEs x t params x n QUAD nodes"
      ],
      "execution_count": null,
      "outputs": [
        {
          "output_type": "stream",
          "text": [
            "(110, 100)\n",
            "(550, 100)\n"
          ],
          "name": "stdout"
        }
      ]
    },
    {
      "cell_type": "markdown",
      "metadata": {
        "id": "np811yIDb3_L"
      },
      "source": [
        "Reshaping testing expected output"
      ]
    },
    {
      "cell_type": "code",
      "metadata": {
        "colab": {
          "base_uri": "https://localhost:8080/"
        },
        "id": "hH4HMTq9bxim",
        "outputId": "faae58cd-0429-4861-de32-80ede6c08d78"
      },
      "source": [
        "t_expected_output_rshpd = t_expected_output.reshape([t_PDEs, n_FEMnodes, data_size])\n",
        "print(t_expected_output_rshpd.shape) # t PDEs x n FEM nodes x n QUAD nodes"
      ],
      "execution_count": null,
      "outputs": [
        {
          "output_type": "stream",
          "text": [
            "(10, 11, 100)\n"
          ],
          "name": "stdout"
        }
      ]
    },
    {
      "cell_type": "code",
      "metadata": {
        "id": "3F7X78BVb2_a"
      },
      "source": [
        "#t_expected_output_rshpd = np.swapaxes(t_expected_output_rshpd, 0, 1)\n",
        "#print(t_expected_output_rshpd.shape) # t FEM nodes x n PDEs x n QUAD nodes"
      ],
      "execution_count": null,
      "outputs": []
    },
    {
      "cell_type": "markdown",
      "metadata": {
        "id": "KcrFp26FcEMf"
      },
      "source": [
        "Reshaping testing input"
      ]
    },
    {
      "cell_type": "code",
      "metadata": {
        "colab": {
          "base_uri": "https://localhost:8080/"
        },
        "id": "4p0juCbFcEMf",
        "outputId": "db1652fd-d186-4c12-dafc-080b173272a9"
      },
      "source": [
        "t_input_rshpd = t_input.reshape([t_PDEs, n_FEMnodes, n_params, data_size])\n",
        "print(t_input_rshpd.shape) # t PDEs x n FEM nodes x n params x n QUAD nodes"
      ],
      "execution_count": null,
      "outputs": [
        {
          "output_type": "stream",
          "text": [
            "(10, 11, 5, 100)\n"
          ],
          "name": "stdout"
        }
      ]
    },
    {
      "cell_type": "code",
      "metadata": {
        "id": "XyZJgLc8cEMh",
        "colab": {
          "base_uri": "https://localhost:8080/"
        },
        "outputId": "468d23a7-1806-49d7-9306-f7687a6390ed"
      },
      "source": [
        "t_input_rshpd = np.swapaxes(t_input_rshpd, 2, 3)\n",
        "print(t_input_rshpd.shape) # t FEM nodes x n PDEs x n params x n QUAD nodes"
      ],
      "execution_count": null,
      "outputs": [
        {
          "output_type": "stream",
          "text": [
            "(10, 11, 100, 5)\n"
          ],
          "name": "stdout"
        }
      ]
    },
    {
      "cell_type": "markdown",
      "metadata": {
        "id": "sa-sczw5cxx0"
      },
      "source": [
        "Evaluate the model through the testing dataset"
      ]
    },
    {
      "cell_type": "code",
      "metadata": {
        "colab": {
          "base_uri": "https://localhost:8080/"
        },
        "id": "wvqbr3jCdGvF",
        "outputId": "a40e8114-8b4e-4d56-d96b-73eb1d29e528"
      },
      "source": [
        "x_test = t_input_rshpd\n",
        "#x_test = np.expand_dims(x_test, 4) \n",
        "y_test = t_expected_output_rshpd\n",
        "\n",
        "print(x_test.shape)\n",
        "print(y_test.shape) "
      ],
      "execution_count": null,
      "outputs": [
        {
          "output_type": "stream",
          "text": [
            "(10, 11, 100, 5)\n",
            "(10, 11, 100)\n"
          ],
          "name": "stdout"
        }
      ]
    },
    {
      "cell_type": "code",
      "metadata": {
        "id": "BAZNJQwkgfSj",
        "colab": {
          "base_uri": "https://localhost:8080/"
        },
        "outputId": "f6c7a24a-36f7-4282-ad8b-a01334fddf66"
      },
      "source": [
        "test_loss = model.evaluate(x_test, y_test)\n",
        "#print('Test accuracy:', test_acc)\n",
        "print('Test loss:', test_loss)"
      ],
      "execution_count": null,
      "outputs": [
        {
          "output_type": "stream",
          "text": [
            "1/1 [==============================] - 0s 216ms/step - loss: 0.2518\n",
            "Test loss: 0.2517760097980499\n"
          ],
          "name": "stdout"
        }
      ]
    },
    {
      "cell_type": "markdown",
      "metadata": {
        "id": "95TEWCTvRocE"
      },
      "source": [
        "Predict the output for the desidered input"
      ]
    },
    {
      "cell_type": "code",
      "metadata": {
        "colab": {
          "base_uri": "https://localhost:8080/"
        },
        "id": "yajl0zGxRs4I",
        "outputId": "e54dfe87-937a-47f2-8fe2-1e59a1f0fced"
      },
      "source": [
        "result = model.predict(x_test, batch_size=50)\n",
        "print(result.shape)"
      ],
      "execution_count": null,
      "outputs": [
        {
          "output_type": "stream",
          "text": [
            "(10, 11, 100)\n"
          ],
          "name": "stdout"
        }
      ]
    }
  ]
}